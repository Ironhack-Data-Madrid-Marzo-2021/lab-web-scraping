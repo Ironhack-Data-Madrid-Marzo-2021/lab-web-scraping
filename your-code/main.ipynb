{
 "cells": [
  {
   "cell_type": "markdown",
   "metadata": {},
   "source": [
    "# Web Scraping Lab\n",
    "\n",
    "You will find in this notebook some scrapy exercises to practise your scraping skills.\n",
    "\n",
    "**Tips:**\n",
    "\n",
    "- Check the response status code for each request to ensure you have obtained the intended contennt.\n",
    "- Print the response text in each request to understand the kind of info you are getting and its format.\n",
    "- Check for patterns in the response text to extract the data/info requested in each question.\n",
    "- Visit each url and take a look at its source through Chrome DevTools. You'll need to identify the html tags, special class names etc. used for the html content you are expected to extract."
   ]
  },
  {
   "cell_type": "markdown",
   "metadata": {},
   "source": [
    "- [Requests library](http://docs.python-requests.org/en/master/#the-user-guide) documentation \n",
    "- [Beautiful Soup Doc](https://www.crummy.com/software/BeautifulSoup/bs4/doc/)\n",
    "- [Urllib](https://docs.python.org/3/library/urllib.html#module-urllib)\n",
    "- [re lib](https://docs.python.org/3/library/re.html)\n",
    "- [lxml lib](https://lxml.de/)\n",
    "- [Scrapy](https://scrapy.org/)\n",
    "- [List of HTTP status codes](https://en.wikipedia.org/wiki/List_of_HTTP_status_codes)\n",
    "- [HTML basics](http://www.simplehtmlguide.com/cheatsheet.php)\n",
    "- [CSS basics](https://www.cssbasics.com/#page_start)"
   ]
  },
  {
   "cell_type": "markdown",
   "metadata": {},
   "source": [
    "#### Below are the libraries and modules you may need. `requests`,  `BeautifulSoup` and `pandas` are imported for you. If you prefer to use additional libraries feel free to uncomment them."
   ]
  },
  {
   "cell_type": "code",
   "execution_count": 109,
   "metadata": {},
   "outputs": [],
   "source": [
    "import requests\n",
    "from bs4 import BeautifulSoup\n",
    "import pandas as pd\n",
    "from pprint import pprint\n",
    "# from lxml import html\n",
    "# from lxml.html import fromstring\n",
    "# import urllib.request\n",
    "from urllib.request import urlopen\n",
    "# import random\n",
    "import re\n",
    "# import scrapy"
   ]
  },
  {
   "cell_type": "markdown",
   "metadata": {},
   "source": [
    "#### Download, parse (using BeautifulSoup), and print the content from the Trending Developers page from GitHub:"
   ]
  },
  {
   "cell_type": "code",
   "execution_count": 2,
   "metadata": {},
   "outputs": [],
   "source": [
    "# This is the url you will scrape in this exercise\n",
    "url = 'https://github.com/trending/developers'"
   ]
  },
  {
   "cell_type": "code",
   "execution_count": 84,
   "metadata": {},
   "outputs": [],
   "source": [
    "#your code\n",
    "html = requests.get(url)\n",
    "soup = BeautifulSoup(html.content,\"html.parser\")\n",
    "#print(soup)"
   ]
  },
  {
   "cell_type": "markdown",
   "metadata": {},
   "source": [
    "#### Display the names of the trending developers retrieved in the previous step.\n",
    "\n",
    "Your output should be a Python list of developer names. Each name should not contain any html tag.\n",
    "\n",
    "**Instructions:**\n",
    "\n",
    "1. Find out the html tag and class names used for the developer names. You can achieve this using Chrome DevTools.\n",
    "\n",
    "1. Use BeautifulSoup to extract all the html elements that contain the developer names.\n",
    "\n",
    "1. Use string manipulation techniques to replace whitespaces and linebreaks (i.e. `\\n`) in the *text* of each html element. Use a list to store the clean names.\n",
    "\n",
    "1. Print the list of names.\n",
    "\n",
    "Your output should look like below:\n",
    "\n",
    "```\n",
    "['trimstray (@trimstray)',\n",
    " 'joewalnes (JoeWalnes)',\n",
    " 'charlax (Charles-AxelDein)',\n",
    " 'ForrestKnight (ForrestKnight)',\n",
    " 'revery-ui (revery-ui)',\n",
    " 'alibaba (Alibaba)',\n",
    " 'Microsoft (Microsoft)',\n",
    " 'github (GitHub)',\n",
    " 'facebook (Facebook)',\n",
    " 'boazsegev (Bo)',\n",
    " 'google (Google)',\n",
    " 'cloudfetch',\n",
    " 'sindresorhus (SindreSorhus)',\n",
    " 'tensorflow',\n",
    " 'apache (TheApacheSoftwareFoundation)',\n",
    " 'DevonCrawford (DevonCrawford)',\n",
    " 'ARMmbed (ArmMbed)',\n",
    " 'vuejs (vuejs)',\n",
    " 'fastai (fast.ai)',\n",
    " 'QiShaoXuan (Qi)',\n",
    " 'joelparkerhenderson (JoelParkerHenderson)',\n",
    " 'torvalds (LinusTorvalds)',\n",
    " 'CyC2018',\n",
    " 'komeiji-satori (神楽坂覚々)',\n",
    " 'script-8']\n",
    " ```"
   ]
  },
  {
   "cell_type": "code",
   "execution_count": 79,
   "metadata": {},
   "outputs": [
    {
     "name": "stdout",
     "output_type": "stream",
     "text": [
      "['Michael Lynch, mtlynch', 'Thibault Duplessis, ornicar', 'Stephan Dilly, extrawurst', 'Hajime Hoshi, hajimehoshi', 'Robin Malfait, RobinMalfait', 'Francois Zaninotto, fzaninotto', 'hiroki osame, privatenumber', 'Christian Bromann, christian-bromann', 'Agniva De Sarker, agnivade', 'van Hauser, vanhauser-thc', 'Anthony Shaw, tonybaloney', 'Alex Zhang, tokers', 'Jaco, jacogr', 'Franck Nijhof, frenck', 'Kirk Byers, ktbyers', 'Alexey Golub, Tyrrrz', 'Alexey Svetliakov, asvetliakov', 'Leo Farias, leoafarias', '年糕小豆汤, iamcco', 'Stephen Celis, stephencelis', 'Rob Ede, robjtede', 'Pablo Baeyens, mx-psi', 'Florian Imdahl, ffflorian', 'Ariya Hidayat, ariya', 'Jaana Dogan, rakyll']\n"
     ]
    }
   ],
   "source": [
    "#your code\n",
    "html = requests.get(url)\n",
    "soup = BeautifulSoup(html.content,\"html.parser\")\n",
    "tags = soup.find_all(\"div\",{\"class\":\"col-md-6\"})\n",
    "\n",
    "names_lst = []\n",
    "for x in range(len(tags)):\n",
    "    if x % 2 == 0:\n",
    "        name = tags[x].getText()\n",
    "        name1 = name.replace(\"\\n\",\"\").strip().replace(\"              \",\",\")\n",
    "        names_lst.append(name1)\n",
    "print(names_lst)"
   ]
  },
  {
   "cell_type": "markdown",
   "metadata": {},
   "source": [
    "#### Display the trending Python repositories in GitHub\n",
    "\n",
    "The steps to solve this problem is similar to the previous one except that you need to find out the repository names instead of developer names."
   ]
  },
  {
   "cell_type": "code",
   "execution_count": 115,
   "metadata": {},
   "outputs": [],
   "source": [
    "# This is the url you will scrape in this exercise\n",
    "url2 = 'https://github.com/trending/python?since=daily'"
   ]
  },
  {
   "cell_type": "code",
   "execution_count": 125,
   "metadata": {},
   "outputs": [],
   "source": [
    "#your code\n",
    "html = requests.get(url2)\n",
    "soup = BeautifulSoup(html.content,\"html.parser\")"
   ]
  },
  {
   "cell_type": "code",
   "execution_count": 126,
   "metadata": {},
   "outputs": [
    {
     "data": {
      "text/plain": [
       "['Chia-Network,chia-blockchain',\n",
       " 'microsoft,Swin-Transformer',\n",
       " 'apache,tvm',\n",
       " 'ansible,awx',\n",
       " 'confluentinc,confluent-kafka-python',\n",
       " 'Shawn-Shan,fawkes',\n",
       " 'soimort,you-get',\n",
       " 'deepmind,distrax',\n",
       " 'PaddlePaddle,PaddleOCR',\n",
       " 'coqui-ai,TTS',\n",
       " 'devicons,devicon',\n",
       " 'lyhue1991,eat_tensorflow2_in_30_days',\n",
       " 'ultralytics,yolov5']"
      ]
     },
     "execution_count": 126,
     "metadata": {},
     "output_type": "execute_result"
    }
   ],
   "source": [
    "tags2 = soup.find_all(\"h1\",{\"class\":[\"h3\", \"lh-condensed\"]})\n",
    "spans = tags2[2].text\n",
    "\n",
    "my_list2 = list()\n",
    "for x in range(len(tags2)):\n",
    "    if x % 2 == 0:\n",
    "        name = tags2[x].getText()\n",
    "        name1 = name.replace(\"\\n\",\"\").strip().replace(\"              \",\"\")\n",
    "        name2 = name1.replace(\"/\", \"\").replace(\"       \", \",\")\n",
    "        \n",
    "        my_list2.append(name2)\n",
    "\n",
    "my_list2"
   ]
  },
  {
   "cell_type": "markdown",
   "metadata": {},
   "source": [
    "#### Display all the image links from Walt Disney wikipedia page"
   ]
  },
  {
   "cell_type": "code",
   "execution_count": 128,
   "metadata": {},
   "outputs": [],
   "source": [
    "# This is the url you will scrape in this exercise\n",
    "url3 = 'https://en.wikipedia.org/wiki/Walt_Disney'"
   ]
  },
  {
   "cell_type": "code",
   "execution_count": 129,
   "metadata": {},
   "outputs": [],
   "source": [
    "#your code\n",
    "images = soup.find_all('img', {'src':re.compile('.jpg')})"
   ]
  },
  {
   "cell_type": "code",
   "execution_count": 130,
   "metadata": {},
   "outputs": [
    {
     "data": {
      "text/plain": [
       "[]"
      ]
     },
     "execution_count": 130,
     "metadata": {},
     "output_type": "execute_result"
    }
   ],
   "source": [
    "images"
   ]
  },
  {
   "cell_type": "markdown",
   "metadata": {},
   "source": [
    "#### Retrieve an arbitary Wikipedia page of \"Python\" and create a list of links on that page"
   ]
  },
  {
   "cell_type": "code",
   "execution_count": null,
   "metadata": {},
   "outputs": [],
   "source": [
    "# This is the url you will scrape in this exercise\n",
    "url ='https://en.wikipedia.org/wiki/Python' "
   ]
  },
  {
   "cell_type": "code",
   "execution_count": null,
   "metadata": {},
   "outputs": [],
   "source": [
    "#your code\n"
   ]
  },
  {
   "cell_type": "code",
   "execution_count": null,
   "metadata": {},
   "outputs": [],
   "source": []
  },
  {
   "cell_type": "markdown",
   "metadata": {},
   "source": [
    "#### Number of Titles that have changed in the United States Code since its last release point "
   ]
  },
  {
   "cell_type": "code",
   "execution_count": null,
   "metadata": {},
   "outputs": [],
   "source": [
    "# This is the url you will scrape in this exercise\n",
    "url = 'http://uscode.house.gov/download/download.shtml'"
   ]
  },
  {
   "cell_type": "code",
   "execution_count": null,
   "metadata": {},
   "outputs": [],
   "source": [
    "#your code\n"
   ]
  },
  {
   "cell_type": "code",
   "execution_count": null,
   "metadata": {},
   "outputs": [],
   "source": []
  },
  {
   "cell_type": "markdown",
   "metadata": {},
   "source": [
    "####  20 latest earthquakes info (date, time, latitude, longitude and region name) by the EMSC as a pandas dataframe"
   ]
  },
  {
   "cell_type": "code",
   "execution_count": 138,
   "metadata": {},
   "outputs": [],
   "source": [
    "# This is the url you will scrape in this exercise\n",
    "url20 = 'https://www.emsc-csem.org/Earthquake/'\n",
    "html = requests.get(url20)\n",
    "soup = BeautifulSoup(html.content,\"html.parser\")"
   ]
  },
  {
   "cell_type": "code",
   "execution_count": 139,
   "metadata": {},
   "outputs": [
    {
     "name": "stdout",
     "output_type": "stream",
     "text": [
      "<!DOCTYPE html PUBLIC \"-//W3C//DTD XHTML 1.0 Strict//EN\" \"http://www.w3.org/TR/xhtml1/DTD/xhtml1-strict.dtd\">\n",
      "\n",
      "<html lang=\"en\" xml:lang=\"en\" xmlns=\"http://www.w3.org/1999/xhtml\" xmlns:og=\"http://opengraphprotocol.org/schema/\">\n",
      "<head><meta content=\"srFzNKBTd0FbRhtnzP--Tjxl01NfbscjYwkp4yOWuQY\" name=\"google-site-verification\"/><meta content=\"BCAA3C04C41AE6E6AFAF117B9469C66F\" name=\"msvalidate.01\"/><meta content=\"43b36314ccb77957\" name=\"y_key\"/><!-- 5-Clk8f50tFFdPTU97Bw7ygWE1A -->\n",
      "<meta content=\"en\" http-equiv=\"Content-Language\"/><meta content=\"text/html; charset=utf-8\" http-equiv=\"Content-Type\"/>\n",
      "<meta content=\"all\" name=\"robots\"/>\n",
      "<meta content=\"earthquake,earthquakes,last earthquake,earthquake today,earthquakes today,earth quake,earth quakes,real time seismicity,seismic,seismicity,seismicity map,seismology,sismologie,EMSC,CSEM,seismicity on google earth,sumatra,tsunami,tsunamis,map,maps,richter,mercalli,moment tensors,epicenter,magnitude,seismology,foreshock,aftershock,tremor\" name=\"keywords\"/>\n",
      "<meta content=\"Latest Earthquakes in the world. World earthquake list. Earthquake information. earthquakes today - recent and latest earthquakes, earthquake map and earthquake information. Earthquake information for europe. EMSC (European Mediterranean Seismological Centre) provides real time earthquake information for seismic events with magnitude larger than 5 in the European Mediterranean area and larger than 7 in the rest of the world.\" lang=\"en\" name=\"description\"/>\n",
      "<meta content=\"EMSC - European-Mediterranean Seismological Centre\" name=\"publisher\"/>\n",
      "<link href=\"https://www.emsc-csem.org/favicon.ico\" rel=\"shortcut icon\" type=\"image/x-icon\"/>\n",
      "<link href=\"https://www.emsc-csem.org/favicon.png\" rel=\"icon\" type=\"image/png\"/>\n",
      "<link href=\"https://www.emsc-csem.org/service/rss/rss.php?typ=emsc\" rel=\"alternate\" title=\"EMSC:  RSS Feed\" type=\"application/rss+xml\"/>\n",
      "<link href=\"https://www.emsc-csem.org/service/rss/rss.php?typ=emsc&amp;magmin=4\" rel=\"alternate\" title=\"EMSC:  MAG&gt;=4\" type=\"application/rss+xml\"/>\n",
      "<link href=\"https://www.emsc-csem.org/service/rss/rss.php?typ=emsc&amp;magmin=5\" rel=\"alternate\" title=\"EMSC:  MAG&gt;=5\" type=\"application/rss+xml\"/>\n",
      "<link href=\"https://www.emsc-csem.org/service/rss/rss.php?typ=emsc&amp;magmin=6\" rel=\"alternate\" title=\"EMSC:  MAG&gt;=6\" type=\"application/rss+xml\"/>\n",
      "<title>Earthquakes today | Earthquake today | earthquake | earthquakes</title>\n",
      "<!--[if !(IE)|(gt IE 7)]><!--><link href=\"https://static3.emsc.eu/Css/m_csem.css\" rel=\"stylesheet\" type=\"text/css\"/><?endif]--><!--[if lte IE 7?><link href=\"https://static1.emsc.eu/Css/m_csem_ie.css\" rel=\"stylesheet\" type=\"text/css\"/><?endif]--><!--[if !(IE)|(gt IE 7)?><!--><link rel=\"stylesheet\" type=\"text/css\" href=\"https://static2.emsc.eu/Css/menu.css\" /><![endif]--><!--[if lte IE 7]><link rel=\"stylesheet\" type=\"text/css\" href=\"https://static3.emsc.eu/Css/menu_ie.css\" /><![endif]-->\n",
      "<style type=\"text/css\">#contenu,  #footer, #nav {\n",
      "\twidth: 950px;\n",
      "}</style><script src=\"https://static2.emsc.eu/javascript/widget.js\" type=\"text/javascript\"></script>\n",
      "<script type=\"text/javascript\">\r\n",
      "\t\t\tvar basehref=window.location.protocol+\"//\"+window.location.hostname; \r\n",
      "\t\t\t</script>\n",
      "<!--[if lte IE 6]> <script type=\"text/javascript\" src=\"https://static1.emsc.eu/Css/javascript_v3.js\"></script> <![endif]--><script src=\"https://static2.emsc.eu/javascript/jquery_corner.js\" type=\"text/javascript\"></script>\n",
      "<script src=\"https://static3.emsc.eu/javascript/fonc_utils.js\" type=\"text/javascript\"></script>\n",
      "<script src=\"https://static1.emsc.eu/javascript/dyndate.js?z=8\" type=\"text/javascript\"></script>\n",
      "<script>addjs_after(\"https://static2.emsc.eu/javascript/alert_bandeau_v2.js\");</script><script type=\"text/javascript\">addcss_after(\"https://static3.emsc.eu/Css/print.css\",\"print\"); </script>\n",
      "</head><body>\n",
      "<div id=\"contenu\"><!-- Start container -->\n",
      "<div id=\"bandeau\"><style> .ban022{background:url('https://static1.emsc.eu/Css/img/spriteBannApp.jpg') no-repeat;} .ban0{background:#B40015;/*#000;*/width:100%;height:100%;border:0;} .ban1{vertical-align:top;text-align:center;padding-top:4px;width:150px;} \r\n",
      "\t\t\t.ban2{position:relative; vertical-align:middle;text-align:center; color:#fff; background-position:0px -41px;/*10px -41px;*/} \r\n",
      "\t\t\t.ban3{width:140px;padding-left:5px;text-align:center;background-position:-640px -41px;}\r\n",
      "\t\t\t#ejs_server_heure {position:absolute; bottom:0; width:100%;}\r\n",
      "\t\t\t#bandeau{background:#B40015;}</style><table cellpadding=\"0\" cellspacing=\"0\" class=\"ban0\"><tr><td class=\"ban1\" onclick=\"window.location.href='https://www.emsc-csem.org';\" onmouseover=\"this.style.cursor='pointer';\">\n",
      "<img alt=\"logo - home\" src=\"https://static2.emsc.eu/Css/img/logo.png\" style=\"width:150px;height:81px;\"/></td>\n",
      "<td class=\"ban2 ban022\" onclick=\"window.location.href='https://www.emsc-csem.org';\" onmouseover=\"this.style.cursor='pointer';\">\n",
      "<div style=\"border:0; position:relative; float:right; width:110px; height:80px; margin-top:-5px; margin-right:25px; \">\n",
      "<div id=\"androidstore\" style=\"border:0; position:relative; float:left; width:110px; height:35px;\"></div>\n",
      "<div id=\"iosstore\" style=\"border:0; position:relative; float:left; width:110px; height:35px; margin-top:8px;\"></div>\n",
      "</div>\n",
      "<script type=\"text/javascript\">set_server_date(2021,4,15,12,10,25)</script>\n",
      "<div id=\"ejs_server_heure\">Current time: 2021-04-15 12:10:25 UTC</div>\n",
      "</td>\n",
      "<td align=\"right\" class=\"ban3 ban022\"><div class=\"login_box\" id=\"login_box\"><form action=\"https://www.emsc-csem.org/Member/\" enctype=\"multipart/form-data\" method=\"post\">\n",
      "<table cellpadding=\"0\" cellspacing=\"0\" style=\"width:100%;height:100%;border:0;\"><tr><td colspan=\"2\" style=\"text-align: center; font-size: 11px; font-weight: bold; color: #fff;\">\n",
      "<span class=\"spriteorig sp_lock vbottom\"></span> Member access</td></tr><tr><td colspan=\"2\" style=\"height: 2px;text-align:center;\">\n",
      "<img alt=\"\" src=\"data:image/png;base64,iVBORw0KGgoAAAANSUhEUgAAAAEAAAABCAQAAAC1HAwCAAAABGdBTUEAALGPC/xhBQAAAAtJREFUCNdjYGAAAAADAAEg1ZTHAAAAAElFTkSuQmCC\" style=\"display: block;width:1px;border:0;height:2px;\"/></td></tr>\n",
      "<tr><td style=\"font-size: 11px; font-weight: bold; text-align: left; color: #000;\">Name </td>\n",
      "<td style=\"text-align:left;\"><input maxlength=\"10\" name=\"login\" size=\"8\" style=\"height: 11px; width: 80px; font-size: 11px;\" type=\"text\"/></td></tr>\n",
      "<tr><td colspan=\"2\" style=\"height: 2px;text-align:center;\"><img alt=\"\" src=\"data:image/png;base64,iVBORw0KGgoAAAANSUhEUgAAAAEAAAABCAQAAAC1HAwCAAAABGdBTUEAALGPC/xhBQAAAAtJREFUCNdjYGAAAAADAAEg1ZTHAAAAAElFTkSuQmCC\" style=\"display: block;width:1px; border:0;height:2px;\"/></td></tr>\n",
      "<tr><td style=\"font-size: 11px; font-weight: bold; text-align: left; color: #000;\">Pwd</td>\n",
      "<td style=\"text-align:left;\"><input maxlength=\"32\" name=\"pwd\" size=\"8\" style=\"height: 11px; width: 80px; font-size: 11px;\" type=\"password\"/></td></tr>\n",
      "<tr><td colspan=\"2\" style=\"height: 2px;text-align:center;\"><img alt=\"\" src=\"data:image/png;base64,iVBORw0KGgoAAAANSUhEUgAAAAEAAAABCAQAAAC1HAwCAAAABGdBTUEAALGPC/xhBQAAAAtJREFUCNdjYGAAAAADAAEg1ZTHAAAAAElFTkSuQmCC\" style=\"display: block;width:1px;border:0;height:2px;\"/></td>\n",
      "</tr><tr><td> </td><td style=\"text-align:left;\"><input style=\"height: 20px; font-size: 11px;\" type=\"submit\" value=\"Sign in\"/></td></tr></table></form></div></td></tr></table><script>\r\n",
      "\t\t\t$jq(function(){\r\n",
      "\t\t\t\t$jq(\"#androidstore\").bind(\"click\", function(e) { e.preventDefault(); e.stopPropagation(); $jq.post(\"/indexAjaxApp.php\", { linkto:\"android\",from:\"site\"}, function () {});  window.open(\"https://play.google.com/store/apps/details?id=org.emsc_csem.lastquake\",\"_blank\"); });\r\n",
      "\t\t\t\t$jq(\"#iosstore\").bind(\"click\", function(e) { e.preventDefault(); e.stopPropagation(); $jq.post(\"/indexAjaxApp.php\", { linkto:\"ios\",from:\"site\" }, function () {});  window.open(\"https://itunes.apple.com/us/app/lastquake/id890799748\",\"_blank\"); });\r\n",
      "\t\t\t\t\r\n",
      "\t\t\t});\r\n",
      "\t\t\t</script>\n",
      "</div>\n",
      "<ul id=\"nav\">\n",
      "<!-- earthquake level 0 -->\n",
      "<li><a href=\"https://www.emsc-csem.org/Earthquake/info.php\">Earthquake information</a>\n",
      "<ul>\n",
      "<li><a href=\"https://www.emsc-csem.org/Earthquake/\">List of latest earthquakes</a></li>\n",
      "<li><a href=\"https://www.emsc-csem.org/Earthquake/significant_earthquakes.php\">Significant earthquakes</a></li>\n",
      "<li><a href=\"https://www.emsc-csem.org/Earthquake/?filter=yes\">Search earthquakes</a></li>\n",
      "<li><a href=\"https://www.emsc-csem.org/Earthquake/Map/gmap.php\">Earthquakes interactive map</a></li>\n",
      "<li><a href=\"https://www.emsc-csem.org/Earthquake/near_you.php\">Earthquakes near you</a></li>\n",
      "<li><a href=\"https://www.emsc-csem.org/Earthquake/felt.php\">Felt earthquakes</a></li>\n",
      "<li><a href=\"https://www.emsc-csem.org/Earthquake/News/\">Special reports</a></li>\n",
      "<li><a href=\"https://www.emsc-csem.org/Earthquake/seismicity/real_time.php\">How it works</a></li>\n",
      "</ul></li>\n",
      "<!-- search level 0 -->\n",
      "<li><a href=\"https://www.emsc-csem.org/Earthquake/Contribute/?lang=en\" onmouseout=\"info_b('notshow','','');\" onmouseover=\"info_b('show','The flag is the visible language that seems to be the most appropriate to respond to our questionnaire.','Language');\"><img id=\"flag\" src=\"https://static2.emsc.eu/Images/flag/flag_en.png\" style=\"vertical-align:middle;height:12px;width:18px;\"/>  Testimonies, photos</a>\n",
      "<ul>\n",
      "<li><a href=\"https://www.emsc-csem.org/Earthquake/Gallery/\">Photos</a></li>\n",
      "<li><a href=\"https://www.emsc-csem.org/Earthquake/Testimonies/\">Testimonies</a></li>\n",
      "</ul></li>\n",
      "<!-- data level 0 -->\n",
      "<li><a href=\"https://www.emsc-csem.org/service/\">Information services</a>\n",
      "<ul>\n",
      "<li><a href=\"https://www.emsc-csem.org/service/lastquakers/\"><span style=\"display:inline-block;background:url(https://static3.emsc.eu/Css/img/lastquakers_16px.png) no-repeat;width:16px;height:16px;vertical-align:middle;\"></span> LastQuakers community (NEW)</a></li>\n",
      "<li><a href=\"https://www.emsc-csem.org/service/real_time/\"><span class=\"spriteorig sp_phone\" style=\"vertical-align:middle;\"></span> For smartphones</a></li>\n",
      "<li><a href=\"https://www.emsc-csem.org/service/application/\"><span class=\"spriteorig sp_phone\" style=\"vertical-align:middle;\"></span> Android &amp; iOS App</a></li>\n",
      "<li><a href=\"https://www.emsc-csem.org/service/Browser-extension/\"><span style=\"display:inline-block;background:url(https://static3.emsc.eu/Css/img/extension-icon.png) no-repeat;width:16px;height:16px;vertical-align:middle;\"></span> Browser extensions</a></li>\n",
      "<li><a href=\"https://www.seismicportal.eu/webservices.html\"><span class=\"spriteorig sp_feed-icon14\" style=\"vertical-align:middle;\"></span> Webservices</a></li>\n",
      "<li><a href=\"https://www.emsc-csem.org/service/rss/\"><span class=\"spriteorig sp_feed-icon14\" style=\"vertical-align:middle;\"></span> RSS feeds</a></li>\n",
      "<li><a href=\"https://www.emsc-csem.org/Earthquake/Map/earth/\"><span class=\"spriteorig sp_ge2\" style=\"vertical-align:middle;\"></span> Seismicity on Google Earth</a></li>\n",
      "<li><a href=\"https://www.emsc-csem.org/service/register.php\"><span class=\"spriteorig sp_alert1\" style=\"vertical-align:middle;\"></span> Email notification service</a></li>\n",
      "</ul></li>\n",
      "<!-- seismicity level 0 -->\n",
      "<li><a href=\"https://www.emsc-csem.org/Earthquake/for_seismologist.php\">For seismologists</a>\n",
      "<ul>\n",
      "<li><a href=\"https://www.emsc-csem.org/Earthquake/seismologist.php\">Latest data contributions</a></li>\n",
      "<li><a href=\"https://www.emsc-csem.org/Earthquake/index_tensors.php\">Moment tensors</a></li>\n",
      "<li><a href=\"https://www.emsc-csem.org/Bulletin/\">Euro-Med bulletin</a></li>\n",
      "<li><a href=\"https://www.seismicportal.eu/\" target=\"_blank\">Seismic Portal</a></li>\n",
      "<li><a href=\"https://www.emsc-csem.org/News/\">News</a></li>\n",
      "<li><a href=\"https://www.emsc-csem.org/job/\">Jobs</a></li>\n",
      "</ul></li>\n",
      "<!-- project level 0 -->\n",
      "<li><a href=\"https://www.emsc-csem.org/Project/\">Projects</a>\n",
      "<ul>\n",
      "<li><a href=\"https://www.emsc-csem.org/Project/#aristotle\">ARISTOTLE</a></li>\n",
      "<li><a href=\"https://www.emsc-csem.org/Project/#carismand\">CARISMAND</a></li>\n",
      "<li><a href=\"https://www.emsc-csem.org/Project/#improver\">IMPROVER</a></li>\n",
      "<li><a href=\"https://www.emsc-csem.org/Project/#seismic\">Seismic portal</a></li>\n",
      "<li><a href=\"https://www.emsc-csem.org/Project/#citizen\">Citizen seismology</a></li>\n",
      "<li><a href=\"https://www.emsc-csem.org/Project/#qcn\">Quake Catcher Network</a></li>\n",
      "<li><a href=\"https://www.emsc-csem.org/Project/#sigma\">Sigma</a></li>\n",
      "<li><a href=\"https://www.emsc-csem.org/Project/#verce\">Verce</a></li>\n",
      "<li><a href=\"https://www.emsc-csem.org/Project/#marsite\">MARsite</a></li>\n",
      "<li><a href=\"https://www.emsc-csem.org/Project/#nera\">NERA</a></li>\n",
      "<li><a href=\"https://www.emsc-csem.org/Project/#EPOS\">EPOS</a></li>\n",
      "<li><a href=\"https://www.emsc-csem.org/Project/#REAKT\">REAKT</a></li>\n",
      "</ul></li>\n",
      "<!-- publi level 0 -->\n",
      "<li><a href=\"https://www.emsc-csem.org/Documents/\">Publications &amp; docs</a></li>\n",
      "</ul><div class=\"clearer\"></div><div class=\"clearer\"></div>\n",
      "<div id=\"sitemap\"><i>You are here : </i>\n",
      "<a href=\"https://www.emsc-csem.org\">EMSC</a> &gt; Earthquake &gt; Real Time Seismicity\r\n",
      "\t\t<div>Our sponsors: \r\n",
      "\t\t<span id=\"sponsor\"><a href=\"http://www.digitalelement.com/\" target=\"_blank\">digitalelement<div id=\"sponimg\"><img src=\"https://static3.emsc.eu/Images/sites/p_netacuity_01.gif\"/></div></a></span>\n",
      "<a href=\"/Donate/\"><span class=\"spriteorig sp_btn_donate_SM\" style=\"vertical-align:middle;margin-top:-2px;\"></span></a>    <a href=\"/about/\">About EMSC</a></div>\n",
      "</div><style type=\"text/css\"> \r\n",
      "\t\t#sitemap div, x:-moz-any-link {margin-top:-13px;} /* Firefox 2*/\r\n",
      "\t\t#sitemap div, x:-moz-any-link, x:default {margin-top:0;} /* Firefox >=3*/\r\n",
      "\t\t#sponsor{margin-right:15px;}\r\n",
      "\t\tdiv#sponimg{position:absolute; display:none; padding:20px; background:rgba(0,0,0,.8);vertical-align:middle;} #sponsor a:hover>div { display: block; }\r\n",
      "\t\tdiv#sponimg img{vertical-align:middle;}\r\n",
      "\t</style>\n",
      "<!--[if lte IE 7]><style type=\"text/css\">#sitemap div{ margin-top:-13px;} </style><![endif]-->\n",
      "<script> var sponsor = {\r\n",
      "\t\t_sp:{\"netacuity\":{\"logo\":\"https:\\/\\/static3.emsc.eu\\/Images\\/sites\\/p_netacuity_01.gif\",\"link\":\"http:\\/\\/www.digitalelement.com\\/\",\"name\":\"digitalelement\"},\"geosig\":{\"logo\":\"https:\\/\\/static1.emsc.eu\\/Images\\/sites\\/geosig_logo.jpg\",\"text\":\"Strong motion instrumentation with a focus on Earthquake Early Warning<br>\",\"link\":\"http:\\/\\/www.geosig.com\\/\",\"name\":\"GeoSIG\"},\"scor\":{\"logo\":\"https:\\/\\/static2.emsc.eu\\/Images\\/sites\\/scor.png\",\"link\":\"https:\\/\\/www.scor.com\\/en\\/scor-corporate-foundation-science\",\"name\":\"SCOR\"}}, _i:0, _keys:null,\r\n",
      "\t\t_start:function() {\r\n",
      "\t\t\tthis._keys = Object.keys(this._sp);\t\r\n",
      "\t\t},\t\r\n",
      "\t\t_next: function() {\r\n",
      "\t\t\tthis._i++;\r\n",
      "\t\t\tif(this._i >= this._keys.length) this._i=0;\r\n",
      "\t\t\tvar k=this._keys[this._i]; //console.log(this._keys.length, k, this._i);\r\n",
      "\t\t\t//console.log( $jq(\"#sponsor a\").contents());\r\n",
      "\t\t\t$jq(\"#sponsor a\").attr(\"href\",this._sp[k][\"link\"]);\r\n",
      "\t\t\t$jq(\"#sponsor a\").contents()[0].textContent=this._sp[k][\"name\"]; $jq(\"#sponimg img\").attr(\"src\",this._sp[k][\"logo\"]);\r\n",
      "\t\t\tvar self=this;\r\n",
      "\t\t\tsetTimeout(function() {self._next();},1000*40);\r\n",
      "\t\t}\t\r\n",
      "\t}\r\n",
      "\t$jq(function() {\r\n",
      "\t\t//console.log( \"ready!\" );\r\n",
      "\t\tsponsor._start();\r\n",
      "\t\tsponsor._next();\r\n",
      "\t});\r\n",
      "\t</script>\n",
      "<div id=\"info_bulle\"><div class=\"inf_t\" id=\"inf_t\"></div><div class=\"inf_te\" id=\"inf_te\"></div></div>\n",
      "<div id=\"info_bulle2\"><div class=\"inf_seul\" id=\"inf_seul\"></div></div>\n",
      "<div id=\"content\"><!-- Start content --><div id=\"bann_defile\"><span class=\"markee\" id=\"markee_bann_defile\" name=\"markee_bann_defile\">temp</span><span id=\"bann_disclam\" style=\"display:none;\"><a href=\"/disclaimer.php\">Disclaimer</a></span></div>\n",
      "<h1><span>Real Time Seismicity</span></h1><!-- ============ TITRE ===================== --><div id=\"quick_access\" style=\"font-size:11px;text-align:center; margin-bottom:5px;\">\n",
      "<a href=\"/Earthquake/?filter=yes\"><span class=\"spriteorig sp_Icon_tools_th\" style=\"margin-right:3px;\"></span>Define your criteria</a> to find specific events  -  Quick search: \r\n",
      "\t<a href=\"/Earthquake/world/M3/\"> mag≥3 </a> | <a href=\"/Earthquake/world/M4/\"> mag≥4 </a> | <a href=\"/Earthquake/world/M5/\"> mag≥5 </a>\n",
      "</div><style type=\"text/css\"> .npages { height:30px; text-align:center; font-weight:bold; } .npages td { border-bottom: 2px solid #EDF3FE;} a.sublink { /*height:18px;*/ padding:5px 10px; border:1px solid #ccc; margin:0 4px; text-decoration:underline; background-color:#fff;} \r\n",
      "\t\t\ta.sublinka { color:#000; text-decoration:none; font-weight:normal; background-color:#FFFFCC; /*rgb(255,255,0);*/ background-color:rgba(255,255,0,0.3); } \r\n",
      "\t\t\t</style>\n",
      "<!--[if IE]>  \r\n",
      "\t\t\t<style type=\"text/css\">\r\n",
      "\t\t\t.sublinka { background:transparent; filter:progid:DXImageTransform.Microsoft.gradient(startColorstr=#FFFFFFCC,endColorstr=#FFFFFFCC); zoom:1; opacity:0.9; } .sublink {zoom:1;}\r\n",
      "\t\t\t</style> \r\n",
      "\t\t\t<![endif]--> <link href=\"https://static3.emsc.eu/Css/tableau_event.css\" rel=\"stylesheet\" type=\"text/css\"/>\n",
      "<style type=\"text/css\">\r\n",
      "\t\t\t@media print {\r\n",
      "\t\t\t\ttbody td {font-size:10px; } .comment { font-size:7px; width:78px;} .tabev3 { padding-right:15px; } .tabev2 { padding-right:2px; } .tabev5 { padding-right:0; padding-left:2px; } .tabev6 { width:140px; }\r\n",
      "\t\t\t\t.pagelist,.autour,.tb_infos,.npages {display:none;}\t.black td{border-top:1px solid black;} #quick_access{display:none;}\r\n",
      "\t\t\t}\r\n",
      "\t\t\t</style><script> addjs_after(\"https://static1.emsc.eu/javascript/tri_tableau.js\"); \r\n",
      "\t\t\t\t\t\t\taddjs_after(\"https://static2.emsc.eu/javascript/tableau_tri_event.js\"); \r\n",
      "\t\t\t\t</script><table style=\"width:99%;\"><tr class=\"tb_infos\"><td><span class=\"spriteorig sp_info\"></span> - Sorting by column is performed on the data of the current page.</td><td style=\"text-align:right;\"><a href=\"/glossary.php\">Glossary</a></td></tr></table><script> var scrollable=false; </script><table border=\"0\" cellpadding=\"0\" cellspacing=\"0\" width=\"100%\"><thead>\n",
      "<tr>\n",
      "<td colspan=\"13\" style=\"background: white;height: 1px\"></td>\n",
      "</tr>\n",
      "<tr id=\"haut_tableau\"><th class=\"th2 th3\" colspan=\"3\" style=\"width:90px;display:table-csell;\"><div onmouseout=\"info_b('notshow','','');\" onmouseover=\"info_b('show','Represents the results of information provided by users (Felt earthquake, pictures, testimonies ,...)&lt;br&gt;See an intensity map for more details on the macroseismic intensity scale.','Citizen response');\">Citizen<br/>Response</div><br/><table cellpadding=\"0\" cellspacing=\"0\" style=\"width:100%;margin:0;text-align:center;\"><tr><td><div onclick=\"change_tri('im_report');\" onmouseout=\"change_image(this,'out','im_report');\" onmouseover=\"change_image(this,'over','im_report');\"><span class=\"spriteorig sp_ico_list\" onmouseout=\"info_b2('notshow','');\" onmouseover=\"info_b2('show','Sorted by number of &lt;b&gt;Comments&lt;/b&gt;');\"></span><span class=\"spriteorig sp_s_asc\" id=\"im_report\" style=\"display:none;\"></span></div></td><td><div onclick=\"change_tri('im_pics');\" onmouseout=\"change_image(this,'out','im_pics');\" onmouseover=\"change_image(this,'over','im_pics');\"><span class=\"spriteorig sp_digikam\" onmouseout=\"info_b2('notshow','');\" onmouseover=\"info_b2('show','Sorted by number of &lt;b&gt;Pictures&lt;/b&gt;');\"></span><span class=\"spriteorig sp_s_asc\" id=\"im_pics\" style=\"display:none;\"></span></div></td><td><div onclick=\"change_tri('im_intens');\" onmouseout=\"change_image(this,'out','im_intens');\" onmouseover=\"change_image(this,'over','im_intens');\"><span class=\"spriteorig sp_IntensityMap\" onmouseout=\"info_b2('notshow','');\" onmouseover=\"info_b2('show','Sorted by &lt;b&gt;Macroseismic Intensity&lt;/b&gt;');\"></span><span class=\"spriteorig sp_s_asc\" id=\"im_intens\" style=\"display:none;\"></span></div></td></tr></table></th><th class=\"th2\" onclick=\"change_tri('im_time');\" onmouseout=\"change_image(this,'out','im_time');\" onmouseover=\"change_image(this,'over','im_time');\">Date &amp; Time <span class=\"spriteorig sp_s_desc\" id=\"im_select\"></span><div style=\"font-weight:normal;\">UTC</div></th><th class=\"th2\" colspan=\"2\" onclick=\"change_tri('im_lat');\" onmouseout=\"change_image(this,'out','im_lat');\" onmouseover=\"change_image(this,'over','im_lat');\">Latitude <span class=\"spriteorig sp_s_asc\" id=\"im_lat\" style=\"display:none;\"></span><div style=\"font-weight:normal;\">degrees</div></th><th class=\"th2\" colspan=\"2\" onclick=\"change_tri('im_lon');\" onmouseout=\"change_image(this,'out','im_lon');\" onmouseover=\"change_image(this,'over','im_lon');\">Longitude <span class=\"spriteorig sp_s_asc\" id=\"im_lon\" style=\"display:none;\"></span><div style=\"font-weight:normal;\">degrees</div></th><th class=\"th2\" onclick=\"change_tri('im_depth');\" onmouseout=\"change_image(this,'out','im_depth');\" onmouseover=\"change_image(this,'over','im_depth');\">Depth <span class=\"spriteorig sp_s_asc\" id=\"im_depth\" style=\"display:none;\"></span><div style=\"font-weight: normal\">km</div></th><th class=\"th2\" colspan=\"1\" id=\"thmag\"><div onclick=\"change_tri('im_mag');\" onmouseout=\"change_image(this,'out','im_mag');\" onmouseover=\"change_image(this,'over','im_mag');\" style=\"float:left;\">Mag <span class=\"spriteorig sp_s_asc\" id=\"im_mag\" style=\"display:none;\"></span></div><div id=\"magplus2\" style=\"float:left;\"> <a href=\"javascript:hide_magni();\" id=\"magplus\" style=\"color:white;\">[+]</a></div></th><th class=\"th2\" id=\"ex_th2\"><div onclick=\"change_tri('im_reg');\" onmouseout=\"change_image(this,'out','im_reg');\" onmouseover=\"change_image(this,'over','im_reg');\" style=\"float:left;\">Region name <span class=\"spriteorig sp_s_asc\" id=\"im_reg\" style=\"display:none;\"></span></div><div id=\"upda\" onmouseout=\"info_b2('notshow','');\" onmouseover=\"info_b2('show','Show last update');\"> <a href=\"javascript:hide_upd();\" style=\"color:white;\">[+]</a></div></th><th class=\"th2 updatetimeno\" id=\"upd\"><div id=\"labupd\" onclick=\"change_tri('im_upd');\" onmouseout=\"change_image(this,'out','im_upd');\" onmouseover=\"change_image(this,'over','im_upd');\" style=\"float:left;text-align:right;\">Last update <span class=\"spriteorig sp_s_asc\" id=\"im_upd\" style=\"display:none;\"></span></div><div id=\"hideupda\" onmouseout=\"info_b2('notshow','');\" onmouseover=\"info_b2('show','Hide last update');\" style=\"float:left;\"><a href=\"javascript:hide_upd();\" style=\"color:white;\">[-]</a></div></th></tr>\n",
      "<tr><td colspan=\"13\" style=\"background: white;height: 1px\"></td></tr>\n",
      "<tr class=\"npages\" id=\"my_pagelist_0\"><td colspan=\"13\"><a class=\"sublink sublinka\" href=\"javascript:void()\" rel=\"nofollow\">1</a><a class=\"sublink\" href=\"/Earthquake/?view=2\">2</a><a class=\"sublink\" href=\"/Earthquake/?view=3\">3</a><a class=\"sublink\" href=\"/Earthquake/?view=4\">4</a><a class=\"sublink\" href=\"/Earthquake/?view=5\">5</a><a class=\"sublink\" href=\"/Earthquake/?view=6\">6</a><a class=\"sublink\" href=\"/Earthquake/?view=7\">7</a><a class=\"sublink\" href=\"/Earthquake/?view=8\">8</a><a class=\"sublink\" href=\"/Earthquake/?view=9\">9</a><a class=\"sublink\" href=\"/Earthquake/?view=10\">10</a><a alt=\"Next page\" class=\"sublink\" href=\"/Earthquake/?view=2\">›</a><a alt=\"Next 10 pages\" class=\"sublink\" href=\"/Earthquake/?view=11\">»</a></td></tr></thead><tbody id=\"tbody\"><tr class=\"ligne1 normal\" id=\"970202\" onclick=\"go_details(event,970202);\"><td class=\"tabev0\"></td><td class=\"tabev0\"></td><td class=\"tabev0\"></td><td class=\"tabev6\"><b><i style=\"display:none;\">earthquake</i><a href=\"/Earthquake/earthquake.php?id=970202\">2021-04-15   11:56:30.0</a></b><i class=\"ago\" id=\"ago0\">13min ago</i></td><td class=\"tabev1\">23.96 </td><td class=\"tabev2\">S  </td><td class=\"tabev1\">66.95 </td><td class=\"tabev2\">W  </td><td class=\"tabev3\">212</td><td class=\"tabev5\" id=\"magtyp0\"> M</td><td class=\"tabev2\">3.3</td><td class=\"tb_region\" id=\"reg0\"> JUJUY, ARGENTINA</td><td class=\"comment updatetimeno\" id=\"upd0\" style=\"text-align:right;\">2021-04-15 12:01</td></tr>\n",
      "<tr class=\"ligne2 normal\" id=\"970200\" onclick=\"go_details(event,970200);\"><td class=\"tabev0\"></td><td class=\"tabev0\"></td><td class=\"tabev0\"></td><td class=\"tabev6\"><b><i style=\"display:none;\">earthquake</i><a href=\"/Earthquake/earthquake.php?id=970200\">2021-04-15   11:38:03.0</a></b><i class=\"ago\" id=\"ago1\">32min ago</i></td><td class=\"tabev1\">25.48 </td><td class=\"tabev2\">S  </td><td class=\"tabev1\">69.08 </td><td class=\"tabev2\">W  </td><td class=\"tabev3\">136</td><td class=\"tabev5\" id=\"magtyp1\">ML</td><td class=\"tabev2\">2.9</td><td class=\"tb_region\" id=\"reg1\"> ANTOFAGASTA, CHILE</td><td class=\"comment updatetimeno\" id=\"upd1\" style=\"text-align:right;\">2021-04-15 11:48</td></tr>\n",
      "<tr class=\"ligne1 normal\" id=\"970197\" onclick=\"go_details(event,970197);\"><td class=\"tabev0\"></td><td class=\"tabev0\"></td><td class=\"tabev0\"></td><td class=\"tabev6\"><b><i style=\"display:none;\">earthquake</i><a href=\"/Earthquake/earthquake.php?id=970197\">2021-04-15   11:29:14.0</a></b><i class=\"ago\" id=\"ago2\">41min ago</i></td><td class=\"tabev1\">8.31 </td><td class=\"tabev2\">S  </td><td class=\"tabev1\">115.51 </td><td class=\"tabev2\">E  </td><td class=\"tabev3\">10</td><td class=\"tabev5\" id=\"magtyp2\"> M</td><td class=\"tabev2\">2.8</td><td class=\"tb_region\" id=\"reg2\"> BALI REGION, INDONESIA</td><td class=\"comment updatetimeno\" id=\"upd2\" style=\"text-align:right;\">2021-04-15 11:36</td></tr>\n",
      "<tr class=\"ligne2 normal\" id=\"970201\" onclick=\"go_details(event,970201);\"><td class=\"tabev0\"></td><td class=\"tabev0\"></td><td class=\"tabev0\"></td><td class=\"tabev6\"><b><i style=\"display:none;\">earthquake</i><a href=\"/Earthquake/earthquake.php?id=970201\">2021-04-15   11:23:49.9</a></b><i class=\"ago\" id=\"ago3\">46min ago</i></td><td class=\"tabev1\">41.59 </td><td class=\"tabev2\">N  </td><td class=\"tabev1\">142.03 </td><td class=\"tabev2\">E  </td><td class=\"tabev3\">63</td><td class=\"tabev5\" id=\"magtyp3\">mb</td><td class=\"tabev2\">4.3</td><td class=\"tb_region\" id=\"reg3\"> HOKKAIDO, JAPAN REGION</td><td class=\"comment updatetimeno\" id=\"upd3\" style=\"text-align:right;\">2021-04-15 11:53</td></tr>\n",
      "<tr class=\"ligne1 normal\" id=\"970199\" onclick=\"go_details(event,970199);\"><td class=\"tabev0\"></td><td class=\"tabev0\"></td><td class=\"tabev0\"></td><td class=\"tabev6\"><b><i style=\"display:none;\">earthquake</i><a href=\"/Earthquake/earthquake.php?id=970199\">2021-04-15   11:21:35.0</a></b><i class=\"ago\" id=\"ago4\">48min ago</i></td><td class=\"tabev1\">9.52 </td><td class=\"tabev2\">S  </td><td class=\"tabev1\">117.13 </td><td class=\"tabev2\">E  </td><td class=\"tabev3\">22</td><td class=\"tabev5\" id=\"magtyp4\"> M</td><td class=\"tabev2\">2.5</td><td class=\"tb_region\" id=\"reg4\"> SUMBAWA REGION, INDONESIA</td><td class=\"comment updatetimeno\" id=\"upd4\" style=\"text-align:right;\">2021-04-15 11:45</td></tr>\n",
      "<tr class=\"ligne2 normal\" id=\"970198\" onclick=\"go_details(event,970198);\"><td class=\"tabev0\"></td><td class=\"tabev0\"></td><td class=\"tabev0\"></td><td class=\"tabev6\"><b><i style=\"display:none;\">earthquake</i><a href=\"/Earthquake/earthquake.php?id=970198\">2021-04-15   11:11:55.0</a></b><i class=\"ago\" id=\"ago5\">58min ago</i></td><td class=\"tabev1\">10.11 </td><td class=\"tabev2\">S  </td><td class=\"tabev1\">117.06 </td><td class=\"tabev2\">E  </td><td class=\"tabev3\">10</td><td class=\"tabev5\" id=\"magtyp5\"> M</td><td class=\"tabev2\">2.6</td><td class=\"tb_region\" id=\"reg5\"> SOUTH OF SUMBAWA, INDONESIA</td><td class=\"comment updatetimeno\" id=\"upd5\" style=\"text-align:right;\">2021-04-15 11:40</td></tr>\n",
      "<tr class=\"ligne1 normal\" id=\"970194\" onclick=\"go_details(event,970194);\"><td class=\"tabev0\"></td><td class=\"tabev0\"></td><td class=\"tabev0\"></td><td class=\"tabev6\"><b><i style=\"display:none;\">earthquake</i><a href=\"/Earthquake/earthquake.php?id=970194\">2021-04-15   11:07:46.6</a></b><i class=\"ago\" id=\"ago6\">1hr 02min ago</i></td><td class=\"tabev1\">22.32 </td><td class=\"tabev2\">S  </td><td class=\"tabev1\">69.84 </td><td class=\"tabev2\">W  </td><td class=\"tabev3\">40</td><td class=\"tabev5\" id=\"magtyp6\">ML</td><td class=\"tabev2\">3.9</td><td class=\"tb_region\" id=\"reg6\"> ANTOFAGASTA, CHILE</td><td class=\"comment updatetimeno\" id=\"upd6\" style=\"text-align:right;\">2021-04-15 11:18</td></tr>\n",
      "<tr class=\"ligne2 normal\" id=\"970192\" onclick=\"go_details(event,970192);\"><td class=\"tabev0\"></td><td class=\"tabev0\"></td><td class=\"tabev0\"></td><td class=\"tabev6\"><b><i style=\"display:none;\">earthquake</i><a href=\"/Earthquake/earthquake.php?id=970192\">2021-04-15   11:04:56.4</a></b><i class=\"ago\" id=\"ago7\">1hr 05min ago</i></td><td class=\"tabev1\">35.29 </td><td class=\"tabev2\">N  </td><td class=\"tabev1\">27.51 </td><td class=\"tabev2\">E  </td><td class=\"tabev3\">3</td><td class=\"tabev5\" id=\"magtyp7\">ML</td><td class=\"tabev2\">2.5</td><td class=\"tb_region\" id=\"reg7\"> DODECANESE ISLANDS, GREECE</td><td class=\"comment updatetimeno\" id=\"upd7\" style=\"text-align:right;\">2021-04-15 11:11</td></tr>\n",
      "<tr class=\"ligne1 normal\" id=\"970195\" onclick=\"go_details(event,970195);\"><td class=\"tabev0\"></td><td class=\"tabev0\"></td><td class=\"tabev0\"></td><td class=\"tabev6\"><b><i style=\"display:none;\">earthquake</i><a href=\"/Earthquake/earthquake.php?id=970195\">2021-04-15   10:53:34.7</a></b><i class=\"ago\" id=\"ago8\">1hr 16min ago</i></td><td class=\"tabev1\">17.90 </td><td class=\"tabev2\">S  </td><td class=\"tabev1\">177.82 </td><td class=\"tabev2\">W  </td><td class=\"tabev3\">624</td><td class=\"tabev5\" id=\"magtyp8\">mb</td><td class=\"tabev2\">4.2</td><td class=\"tb_region\" id=\"reg8\"> FIJI REGION</td><td class=\"comment updatetimeno\" id=\"upd8\" style=\"text-align:right;\">2021-04-15 11:25</td></tr>\n",
      "<tr class=\"ligne2 normal\" id=\"970188\" onclick=\"go_details(event,970188);\"><td class=\"tabev0\" style=\"text-align:center;\"><a href=\"https://www.emsc-csem.org/Earthquake/Testimonies/comments.php?id=970188\" onmouseout=\"info_b2('notshow','');\" onmouseover=\"info_b2('show','See the &lt;b&gt;8 testimonies&lt;/b&gt; for this earthquake');\"><span class=\"\" style=\"vertical-align:middle;\">8</span></a></td><td class=\"tabev0\"></td><td class=\"tabev0\"><span class=\"intensity\" onclick=\"go_details(event,null,'https://www.emsc-csem.org/Earthquake/popup_intensmap.php?id=970188&amp;f=/FELTREPORTS/97/970188/IntensityMap.png');\" onmouseout=\"info_b2('notshow','');\" onmouseover=\"info_b2('show','See the &lt;b&gt; Intensity map&lt;/b&gt;');\" style=\"background-color:#00FFFF;\">IV</span></td><td class=\"tabev6\"><b><i style=\"display:none;\">earthquake</i><a href=\"/Earthquake/earthquake.php?id=970188\">2021-04-15   10:36:20.6</a></b><i class=\"ago\" id=\"ago9\">1hr 34min ago</i></td><td class=\"tabev1\">10.40 </td><td class=\"tabev2\">S  </td><td class=\"tabev1\">117.07 </td><td class=\"tabev2\">E  </td><td class=\"tabev3\">10</td><td class=\"tabev5\" id=\"magtyp9\">Mw</td><td class=\"tabev2\">5.4</td><td class=\"tb_region\" id=\"reg9\"> SOUTH OF SUMBAWA, INDONESIA</td><td class=\"comment updatetimeno\" id=\"upd9\" style=\"text-align:right;\">2021-04-15 11:12</td></tr>\n",
      "<tr class=\"ligne1 normal\" id=\"970189\" onclick=\"go_details(event,970189);\"><td class=\"tabev0\"></td><td class=\"tabev0\"></td><td class=\"tabev0\"></td><td class=\"tabev6\"><b><i style=\"display:none;\">earthquake</i><a href=\"/Earthquake/earthquake.php?id=970189\">2021-04-15   10:35:27.0</a></b><i class=\"ago\" id=\"ago10\">1hr 34min ago</i></td><td class=\"tabev1\">24.29 </td><td class=\"tabev2\">S  </td><td class=\"tabev1\">69.18 </td><td class=\"tabev2\">W  </td><td class=\"tabev3\">88</td><td class=\"tabev5\" id=\"magtyp10\">ML</td><td class=\"tabev2\">2.8</td><td class=\"tb_region\" id=\"reg10\"> ANTOFAGASTA, CHILE</td><td class=\"comment updatetimeno\" id=\"upd10\" style=\"text-align:right;\">2021-04-15 10:42</td></tr>\n",
      "<tr class=\"ligne2 normal\" id=\"970186\" onclick=\"go_details(event,970186);\"><td class=\"tabev0\" style=\"text-align:center;\"><a href=\"https://www.emsc-csem.org/Earthquake/Testimonies/comments.php?id=970186\" onmouseout=\"info_b2('notshow','');\" onmouseover=\"info_b2('show','See the &lt;b&gt;testimony&lt;/b&gt; for this earthquake');\"><span class=\"\" style=\"vertical-align:middle;\">1</span></a></td><td class=\"tabev0\"></td><td class=\"tabev0\"><span class=\"intensity\" onclick=\"go_details(event,null,'https://www.emsc-csem.org/Earthquake/popup_intensmap.php?id=970186&amp;f=/FELTREPORTS/97/970186/IntensityMap.png');\" onmouseout=\"info_b2('notshow','');\" onmouseover=\"info_b2('show','See the &lt;b&gt; Intensity map&lt;/b&gt;');\" style=\"background-color:#FFFFFF;\">F</span></td><td class=\"tabev6\"><b><i style=\"display:none;\">earthquake</i><a href=\"/Earthquake/earthquake.php?id=970186\">2021-04-15   10:14:25.4</a></b><i class=\"ago\" id=\"ago11\">1hr 55min ago</i></td><td class=\"tabev1\">39.29 </td><td class=\"tabev2\">N  </td><td class=\"tabev1\">26.09 </td><td class=\"tabev2\">E  </td><td class=\"tabev3\">9</td><td class=\"tabev5\" id=\"magtyp11\">ML</td><td class=\"tabev2\">2.6</td><td class=\"tb_region\" id=\"reg11\"> NEAR THE COAST OF WESTERN TURKEY</td><td class=\"comment updatetimeno\" id=\"upd11\" style=\"text-align:right;\">2021-04-15 11:11</td></tr>\n",
      "<tr class=\"ligne1 normal\" id=\"970185\" onclick=\"go_details(event,970185);\"><td class=\"tabev0\"></td><td class=\"tabev0\"></td><td class=\"tabev0\"></td><td class=\"tabev6\"><b><i style=\"display:none;\">earthquake</i><a href=\"/Earthquake/earthquake.php?id=970185\">2021-04-15   10:07:36.8</a></b><i class=\"ago\" id=\"ago12\">2hr 02min ago</i></td><td class=\"tabev1\">34.39 </td><td class=\"tabev2\">N  </td><td class=\"tabev1\">97.43 </td><td class=\"tabev2\">W  </td><td class=\"tabev3\">3</td><td class=\"tabev5\" id=\"magtyp12\">ML</td><td class=\"tabev2\">2.1</td><td class=\"tb_region\" id=\"reg12\"> OKLAHOMA</td><td class=\"comment updatetimeno\" id=\"upd12\" style=\"text-align:right;\">2021-04-15 10:12</td></tr>\n",
      "<tr class=\"ligne2 normal\" id=\"970183\" onclick=\"go_details(event,970183);\"><td class=\"tabev0\"></td><td class=\"tabev0\"></td><td class=\"tabev0\"></td><td class=\"tabev6\"><b><i style=\"display:none;\">earthquake</i><a href=\"/Earthquake/earthquake.php?id=970183\">2021-04-15   10:05:50.0</a></b><i class=\"ago\" id=\"ago13\">2hr 04min ago</i></td><td class=\"tabev1\">15.71 </td><td class=\"tabev2\">S  </td><td class=\"tabev1\">74.64 </td><td class=\"tabev2\">W  </td><td class=\"tabev3\">43</td><td class=\"tabev5\" id=\"magtyp13\"> M</td><td class=\"tabev2\">4.4</td><td class=\"tb_region\" id=\"reg13\"> NEAR COAST OF SOUTHERN PERU</td><td class=\"comment updatetimeno\" id=\"upd13\" style=\"text-align:right;\">2021-04-15 10:10</td></tr>\n",
      "<tr class=\"ligne1 normal\" id=\"970187\" onclick=\"go_details(event,970187);\"><td class=\"tabev0\"></td><td class=\"tabev0\"></td><td class=\"tabev0\"></td><td class=\"tabev6\"><b><i style=\"display:none;\">earthquake</i><a href=\"/Earthquake/earthquake.php?id=970187\">2021-04-15   09:58:22.0</a></b><i class=\"ago\" id=\"ago14\">2hr 12min ago</i></td><td class=\"tabev1\">16.12 </td><td class=\"tabev2\">N  </td><td class=\"tabev1\">99.24 </td><td class=\"tabev2\">W  </td><td class=\"tabev3\">10</td><td class=\"tabev5\" id=\"magtyp14\"> M</td><td class=\"tabev2\">4.2</td><td class=\"tb_region\" id=\"reg14\"> OFFSHORE GUERRERO, MEXICO</td><td class=\"comment updatetimeno\" id=\"upd14\" style=\"text-align:right;\">2021-04-15 10:21</td></tr>\n",
      "<tr class=\"ligne2 normal\" id=\"970182\" onclick=\"go_details(event,970182);\"><td class=\"tabev0\"></td><td class=\"tabev0\"></td><td class=\"tabev0\"></td><td class=\"tabev6\"><b><i style=\"display:none;\">earthquake</i><a href=\"/Earthquake/earthquake.php?id=970182\">2021-04-15   09:56:32.2</a></b><i class=\"ago\" id=\"ago15\">2hr 13min ago</i></td><td class=\"tabev1\">19.22 </td><td class=\"tabev2\">N  </td><td class=\"tabev1\">155.41 </td><td class=\"tabev2\">W  </td><td class=\"tabev3\">30</td><td class=\"tabev5\" id=\"magtyp15\">Ml</td><td class=\"tabev2\">2.1</td><td class=\"tb_region\" id=\"reg15\"> ISLAND OF HAWAII, HAWAII</td><td class=\"comment updatetimeno\" id=\"upd15\" style=\"text-align:right;\">2021-04-15 10:02</td></tr>\n",
      "<tr class=\"ligne1 normal\" id=\"970184\" onclick=\"go_details(event,970184);\"><td class=\"tabev0\"></td><td class=\"tabev0\"></td><td class=\"tabev0\"></td><td class=\"tabev6\"><b><i style=\"display:none;\">earthquake</i><a href=\"/Earthquake/earthquake.php?id=970184\">2021-04-15   09:52:25.6</a></b><i class=\"ago\" id=\"ago16\">2hr 17min ago</i></td><td class=\"tabev1\">29.90 </td><td class=\"tabev2\">S  </td><td class=\"tabev1\">137.84 </td><td class=\"tabev2\">E  </td><td class=\"tabev3\">7</td><td class=\"tabev5\" id=\"magtyp16\">ML</td><td class=\"tabev2\">3.6</td><td class=\"tb_region\" id=\"reg16\"> SOUTH AUSTRALIA</td><td class=\"comment updatetimeno\" id=\"upd16\" style=\"text-align:right;\">2021-04-15 10:11</td></tr>\n",
      "<tr class=\"ligne2 normal\" id=\"970179\" onclick=\"go_details(event,970179);\"><td class=\"tabev0\"></td><td class=\"tabev0\"></td><td class=\"tabev0\"></td><td class=\"tabev6\"><b><i style=\"display:none;\">earthquake</i><a href=\"/Earthquake/earthquake.php?id=970179\">2021-04-15   09:46:39.2</a></b><i class=\"ago\" id=\"ago17\">2hr 23min ago</i></td><td class=\"tabev1\">19.20 </td><td class=\"tabev2\">N  </td><td class=\"tabev1\">155.41 </td><td class=\"tabev2\">W  </td><td class=\"tabev3\">34</td><td class=\"tabev5\" id=\"magtyp17\">Ml</td><td class=\"tabev2\">2.2</td><td class=\"tb_region\" id=\"reg17\"> ISLAND OF HAWAII, HAWAII</td><td class=\"comment updatetimeno\" id=\"upd17\" style=\"text-align:right;\">2021-04-15 09:52</td></tr>\n",
      "<tr class=\"ligne1 normal\" id=\"970178\" onclick=\"go_details(event,970178);\"><td class=\"tabev0\"></td><td class=\"tabev0\"></td><td class=\"tabev0\"></td><td class=\"tabev6\"><b><i style=\"display:none;\">earthquake</i><a href=\"/Earthquake/earthquake.php?id=970178\">2021-04-15   09:44:42.1</a></b><i class=\"ago\" id=\"ago18\">2hr 25min ago</i></td><td class=\"tabev1\">47.55 </td><td class=\"tabev2\">N  </td><td class=\"tabev1\">8.17 </td><td class=\"tabev2\">E  </td><td class=\"tabev3\">1</td><td class=\"tabev5\" id=\"magtyp18\">ML</td><td class=\"tabev2\">1.9</td><td class=\"tb_region\" id=\"reg18\"> SWITZERLAND</td><td class=\"comment updatetimeno\" id=\"upd18\" style=\"text-align:right;\">2021-04-15 09:50</td></tr>\n",
      "<tr class=\"ligne2 normal\" id=\"970175\" onclick=\"go_details(event,970175);\"><td class=\"tabev0\"></td><td class=\"tabev0\"></td><td class=\"tabev0\"></td><td class=\"tabev6\"><b><i style=\"display:none;\">earthquake</i><a href=\"/Earthquake/earthquake.php?id=970175\">2021-04-15   09:36:28.5</a></b><i class=\"ago\" id=\"ago19\">2hr 33min ago</i></td><td class=\"tabev1\">48.17 </td><td class=\"tabev2\">N  </td><td class=\"tabev1\">4.44 </td><td class=\"tabev2\">W  </td><td class=\"tabev3\">2</td><td class=\"tabev5\" id=\"magtyp19\">ML</td><td class=\"tabev2\">2.2</td><td class=\"tb_region\" id=\"reg19\"> FRANCE</td><td class=\"comment updatetimeno\" id=\"upd19\" style=\"text-align:right;\">2021-04-15 09:50</td></tr>\n",
      "<tr class=\"ligne1 normal\" id=\"970173\" onclick=\"go_details(event,970173);\"><td class=\"tabev0\"></td><td class=\"tabev0\"></td><td class=\"tabev0\"></td><td class=\"tabev6\"><b><i style=\"display:none;\">earthquake</i><a href=\"/Earthquake/earthquake.php?id=970173\">2021-04-15   09:29:54.2</a></b><i class=\"ago\" id=\"ago20\">2hr 40min ago</i></td><td class=\"tabev1\">68.13 </td><td class=\"tabev2\">N  </td><td class=\"tabev1\">18.49 </td><td class=\"tabev2\">W  </td><td class=\"tabev3\">10</td><td class=\"tabev5\" id=\"magtyp20\">mb</td><td class=\"tabev2\">4.4</td><td class=\"tb_region\" id=\"reg20\"> ICELAND REGION</td><td class=\"comment updatetimeno\" id=\"upd20\" style=\"text-align:right;\">2021-04-15 11:11</td></tr>\n",
      "<tr class=\"ligne2 normal\" id=\"970171\" onclick=\"go_details(event,970171);\"><td class=\"tabev0\"></td><td class=\"tabev0\"></td><td class=\"tabev0\"></td><td class=\"tabev6\"><b><i style=\"display:none;\">earthquake</i><a href=\"/Earthquake/earthquake.php?id=970171\">2021-04-15   09:09:52.0</a></b><i class=\"ago\" id=\"ago21\">3hr 00min ago</i></td><td class=\"tabev1\">36.23 </td><td class=\"tabev2\">S  </td><td class=\"tabev1\">70.51 </td><td class=\"tabev2\">W  </td><td class=\"tabev3\">19</td><td class=\"tabev5\" id=\"magtyp21\">ML</td><td class=\"tabev2\">2.5</td><td class=\"tb_region\" id=\"reg21\"> NEUQUEN, ARGENTINA</td><td class=\"comment updatetimeno\" id=\"upd21\" style=\"text-align:right;\">2021-04-15 09:21</td></tr>\n",
      "<tr class=\"ligne1 normal\" id=\"970176\" onclick=\"go_details(event,970176);\"><td class=\"tabev0\"></td><td class=\"tabev0\"></td><td class=\"tabev0\"></td><td class=\"tabev6\"><b><i style=\"display:none;\">earthquake</i><a href=\"/Earthquake/earthquake.php?id=970176\">2021-04-15   09:09:07.6</a></b><i class=\"ago\" id=\"ago22\">3hr 01min ago</i></td><td class=\"tabev1\">35.46 </td><td class=\"tabev2\">N  </td><td class=\"tabev1\">28.50 </td><td class=\"tabev2\">E  </td><td class=\"tabev3\">10</td><td class=\"tabev5\" id=\"magtyp22\">ML</td><td class=\"tabev2\">2.5</td><td class=\"tb_region\" id=\"reg22\"> EASTERN MEDITERRANEAN SEA</td><td class=\"comment updatetimeno\" id=\"upd22\" style=\"text-align:right;\">2021-04-15 09:44</td></tr>\n",
      "<tr class=\"ligne2 normal\" id=\"970167\" onclick=\"go_details(event,970167);\"><td class=\"tabev0\"></td><td class=\"tabev0\"></td><td class=\"tabev0\"></td><td class=\"tabev6\"><b><i style=\"display:none;\">earthquake</i><a href=\"/Earthquake/earthquake.php?id=970167\">2021-04-15   08:40:28.2</a></b><i class=\"ago\" id=\"ago23\">3hr 29min ago</i></td><td class=\"tabev1\">18.01 </td><td class=\"tabev2\">N  </td><td class=\"tabev1\">66.76 </td><td class=\"tabev2\">W  </td><td class=\"tabev3\">10</td><td class=\"tabev5\" id=\"magtyp23\">ML</td><td class=\"tabev2\">2.7</td><td class=\"tb_region\" id=\"reg23\"> PUERTO RICO</td><td class=\"comment updatetimeno\" id=\"upd23\" style=\"text-align:right;\">2021-04-15 08:55</td></tr>\n",
      "<tr class=\"ligne1 normal\" id=\"970165\" onclick=\"go_details(event,970165);\"><td class=\"tabev0\"></td><td class=\"tabev0\"></td><td class=\"tabev0\"></td><td class=\"tabev6\"><b><i style=\"display:none;\">earthquake</i><a href=\"/Earthquake/earthquake.php?id=970165\">2021-04-15   08:33:40.7</a></b><i class=\"ago\" id=\"ago24\">3hr 36min ago</i></td><td class=\"tabev1\">53.59 </td><td class=\"tabev2\">N  </td><td class=\"tabev1\">171.58 </td><td class=\"tabev2\">E  </td><td class=\"tabev3\">10</td><td class=\"tabev5\" id=\"magtyp24\">Mw</td><td class=\"tabev2\">5.3</td><td class=\"tb_region\" id=\"reg24\"> NEAR ISLANDS, ALEUTIAN ISLANDS</td><td class=\"comment updatetimeno\" id=\"upd24\" style=\"text-align:right;\">2021-04-15 09:20</td></tr>\n",
      "<tr class=\"ligne2 normal\" id=\"970160\" onclick=\"go_details(event,970160);\"><td class=\"tabev0\"></td><td class=\"tabev0\"></td><td class=\"tabev0\"></td><td class=\"tabev6\"><b><i style=\"display:none;\">earthquake</i><a href=\"/Earthquake/earthquake.php?id=970160\">2021-04-15   08:26:16.0</a></b><i class=\"ago\" id=\"ago25\">3hr 44min ago</i></td><td class=\"tabev1\">28.17 </td><td class=\"tabev2\">S  </td><td class=\"tabev1\">71.41 </td><td class=\"tabev2\">W  </td><td class=\"tabev3\">27</td><td class=\"tabev5\" id=\"magtyp25\">ML</td><td class=\"tabev2\">2.5</td><td class=\"tb_region\" id=\"reg25\"> OFFSHORE ATACAMA, CHILE</td><td class=\"comment updatetimeno\" id=\"upd25\" style=\"text-align:right;\">2021-04-15 08:34</td></tr>\n",
      "<tr class=\"ligne1 normal\" id=\"970159\" onclick=\"go_details(event,970159);\"><td class=\"tabev0\"></td><td class=\"tabev0\"></td><td class=\"tabev0\"></td><td class=\"tabev6\"><b><i style=\"display:none;\">earthquake</i><a href=\"/Earthquake/earthquake.php?id=970159\">2021-04-15   08:22:25.3</a></b><i class=\"ago\" id=\"ago26\">3hr 47min ago</i></td><td class=\"tabev1\">35.65 </td><td class=\"tabev2\">S  </td><td class=\"tabev1\">178.30 </td><td class=\"tabev2\">E  </td><td class=\"tabev3\">213</td><td class=\"tabev5\" id=\"magtyp26\">M </td><td class=\"tabev2\">3.9</td><td class=\"tb_region\" id=\"reg26\"> OFF E. COAST OF N. ISLAND, N.Z.</td><td class=\"comment updatetimeno\" id=\"upd26\" style=\"text-align:right;\">2021-04-15 08:25</td></tr>\n",
      "<tr class=\"ligne2 normal\" id=\"970158\" onclick=\"go_details(event,970158);\"><td class=\"tabev0\"></td><td class=\"tabev0\"></td><td class=\"tabev0\"></td><td class=\"tabev6\"><b><i style=\"display:none;\">earthquake</i><a href=\"/Earthquake/earthquake.php?id=970158\">2021-04-15   08:19:20.0</a></b><i class=\"ago\" id=\"ago27\">3hr 51min ago</i></td><td class=\"tabev1\">37.58 </td><td class=\"tabev2\">N  </td><td class=\"tabev1\">121.68 </td><td class=\"tabev2\">W  </td><td class=\"tabev3\">3</td><td class=\"tabev5\" id=\"magtyp27\">Md</td><td class=\"tabev2\">2.1</td><td class=\"tb_region\" id=\"reg27\"> NORTHERN CALIFORNIA</td><td class=\"comment updatetimeno\" id=\"upd27\" style=\"text-align:right;\">2021-04-15 08:20</td></tr>\n",
      "<tr class=\"ligne1 normal\" id=\"970156\" onclick=\"go_details(event,970156);\"><td class=\"tabev0\"></td><td class=\"tabev0\"></td><td class=\"tabev0\"></td><td class=\"tabev6\"><b><i style=\"display:none;\">earthquake</i><a href=\"/Earthquake/earthquake.php?id=970156\">2021-04-15   07:59:03.7</a></b><i class=\"ago\" id=\"ago28\">4hr 11min ago</i></td><td class=\"tabev1\">36.45 </td><td class=\"tabev2\">N  </td><td class=\"tabev1\">27.13 </td><td class=\"tabev2\">E  </td><td class=\"tabev3\">7</td><td class=\"tabev5\" id=\"magtyp28\">ML</td><td class=\"tabev2\">2.1</td><td class=\"tb_region\" id=\"reg28\"> DODECANESE IS.-TURKEY BORDER REG</td><td class=\"comment updatetimeno\" id=\"upd28\" style=\"text-align:right;\">2021-04-15 08:04</td></tr>\n",
      "<tr class=\"ligne2 normal\" id=\"970154\" onclick=\"go_details(event,970154);\"><td class=\"tabev0\"></td><td class=\"tabev0\"></td><td class=\"tabev0\"></td><td class=\"tabev6\"><b><i style=\"display:none;\">earthquake</i><a href=\"/Earthquake/earthquake.php?id=970154\">2021-04-15   07:58:29.3</a></b><i class=\"ago\" id=\"ago29\">4hr 11min ago</i></td><td class=\"tabev1\">40.30 </td><td class=\"tabev2\">N  </td><td class=\"tabev1\">124.43 </td><td class=\"tabev2\">W  </td><td class=\"tabev3\">11</td><td class=\"tabev5\" id=\"magtyp29\">Md</td><td class=\"tabev2\">2.6</td><td class=\"tb_region\" id=\"reg29\"> OFFSHORE NORTHERN CALIFORNIA</td><td class=\"comment updatetimeno\" id=\"upd29\" style=\"text-align:right;\">2021-04-15 08:00</td></tr>\n",
      "<tr class=\"ligne1 normal\" id=\"970153\" onclick=\"go_details(event,970153);\"><td class=\"tabev0\"></td><td class=\"tabev0\"></td><td class=\"tabev0\"></td><td class=\"tabev6\"><b><i style=\"display:none;\">earthquake</i><a href=\"/Earthquake/earthquake.php?id=970153\">2021-04-15   07:42:19.0</a></b><i class=\"ago\" id=\"ago30\">4hr 28min ago</i></td><td class=\"tabev1\">21.17 </td><td class=\"tabev2\">S  </td><td class=\"tabev1\">68.76 </td><td class=\"tabev2\">W  </td><td class=\"tabev3\">114</td><td class=\"tabev5\" id=\"magtyp30\">ML</td><td class=\"tabev2\">3.3</td><td class=\"tb_region\" id=\"reg30\"> TARAPACA, CHILE</td><td class=\"comment updatetimeno\" id=\"upd30\" style=\"text-align:right;\">2021-04-15 07:58</td></tr>\n",
      "<tr class=\"ligne2 normal\" id=\"970157\" onclick=\"go_details(event,970157);\"><td class=\"tabev0\"></td><td class=\"tabev0\"></td><td class=\"tabev0\"></td><td class=\"tabev6\"><b><i style=\"display:none;\">earthquake</i><a href=\"/Earthquake/earthquake.php?id=970157\">2021-04-15   07:30:39.4</a></b><i class=\"ago\" id=\"ago31\">4hr 39min ago</i></td><td class=\"tabev1\">42.52 </td><td class=\"tabev2\">N  </td><td class=\"tabev1\">1.86 </td><td class=\"tabev2\">E  </td><td class=\"tabev3\">1</td><td class=\"tabev5\" id=\"magtyp31\">ML</td><td class=\"tabev2\">1.6</td><td class=\"tb_region\" id=\"reg31\"> PYRENEES</td><td class=\"comment updatetimeno\" id=\"upd31\" style=\"text-align:right;\">2021-04-15 08:10</td></tr>\n",
      "<tr class=\"ligne1 normal\" id=\"970151\" onclick=\"go_details(event,970151);\"><td class=\"tabev0\"></td><td class=\"tabev0\"></td><td class=\"tabev0\"></td><td class=\"tabev6\"><b><i style=\"display:none;\">earthquake</i><a href=\"/Earthquake/earthquake.php?id=970151\">2021-04-15   07:26:30.8</a></b><i class=\"ago\" id=\"ago32\">4hr 43min ago</i></td><td class=\"tabev1\">36.96 </td><td class=\"tabev2\">N  </td><td class=\"tabev1\">98.09 </td><td class=\"tabev2\">W  </td><td class=\"tabev3\">5</td><td class=\"tabev5\" id=\"magtyp32\">mb</td><td class=\"tabev2\">2.8</td><td class=\"tb_region\" id=\"reg32\"> OKLAHOMA</td><td class=\"comment updatetimeno\" id=\"upd32\" style=\"text-align:right;\">2021-04-15 07:32</td></tr>\n",
      "<tr class=\"ligne2 normal\" id=\"970149\" onclick=\"go_details(event,970149);\"><td class=\"tabev0\"></td><td class=\"tabev0\"></td><td class=\"tabev0\"></td><td class=\"tabev6\"><b><i style=\"display:none;\">earthquake</i><a href=\"/Earthquake/earthquake.php?id=970149\">2021-04-15   07:11:06.0</a></b><i class=\"ago\" id=\"ago33\">4hr 59min ago</i></td><td class=\"tabev1\">32.28 </td><td class=\"tabev2\">S  </td><td class=\"tabev1\">67.93 </td><td class=\"tabev2\">W  </td><td class=\"tabev3\">124</td><td class=\"tabev5\" id=\"magtyp33\"> M</td><td class=\"tabev2\">3.6</td><td class=\"tb_region\" id=\"reg33\"> MENDOZA, ARGENTINA</td><td class=\"comment updatetimeno\" id=\"upd33\" style=\"text-align:right;\">2021-04-15 07:20</td></tr>\n",
      "<tr class=\"ligne1 normal\" id=\"970148\" onclick=\"go_details(event,970148);\"><td class=\"tabev0\"></td><td class=\"tabev0\"></td><td class=\"tabev0\"></td><td class=\"tabev6\"><b><i style=\"display:none;\">earthquake</i><a href=\"/Earthquake/earthquake.php?id=970148\">2021-04-15   07:07:56.7</a></b><i class=\"ago\" id=\"ago34\">5hr 02min ago</i></td><td class=\"tabev1\">39.30 </td><td class=\"tabev2\">N  </td><td class=\"tabev1\">26.09 </td><td class=\"tabev2\">E  </td><td class=\"tabev3\">7</td><td class=\"tabev5\" id=\"magtyp34\">ML</td><td class=\"tabev2\">2.5</td><td class=\"tb_region\" id=\"reg34\"> NEAR THE COAST OF WESTERN TURKEY</td><td class=\"comment updatetimeno\" id=\"upd34\" style=\"text-align:right;\">2021-04-15 09:19</td></tr>\n",
      "<tr class=\"ligne2 normal\" id=\"970155\" onclick=\"go_details(event,970155);\"><td class=\"tabev0\"></td><td class=\"tabev0\"></td><td class=\"tabev0\"></td><td class=\"tabev6\"><b><i style=\"display:none;\">earthquake</i><a href=\"/Earthquake/earthquake.php?id=970155\">2021-04-15   07:02:22.2</a></b><i class=\"ago\" id=\"ago35\">5hr 08min ago</i></td><td class=\"tabev1\">28.96 </td><td class=\"tabev2\">N  </td><td class=\"tabev1\">13.35 </td><td class=\"tabev2\">W  </td><td class=\"tabev3\">7</td><td class=\"tabev5\" id=\"magtyp35\">ML</td><td class=\"tabev2\">1.8</td><td class=\"tb_region\" id=\"reg35\"> CANARY ISLANDS, SPAIN REGION</td><td class=\"comment updatetimeno\" id=\"upd35\" style=\"text-align:right;\">2021-04-15 08:04</td></tr>\n",
      "<tr class=\"ligne1 normal\" id=\"970147\" onclick=\"go_details(event,970147);\"><td class=\"tabev0\"></td><td class=\"tabev0\"></td><td class=\"tabev0\"></td><td class=\"tabev6\"><b><i style=\"display:none;\">earthquake</i><a href=\"/Earthquake/earthquake.php?id=970147\">2021-04-15   06:23:17.7</a></b><i class=\"ago\" id=\"ago36\">5hr 47min ago</i></td><td class=\"tabev1\">61.53 </td><td class=\"tabev2\">N  </td><td class=\"tabev1\">146.53 </td><td class=\"tabev2\">W  </td><td class=\"tabev3\">4</td><td class=\"tabev5\" id=\"magtyp36\">ML</td><td class=\"tabev2\">2.7</td><td class=\"tb_region\" id=\"reg36\"> SOUTHERN ALASKA</td><td class=\"comment updatetimeno\" id=\"upd36\" style=\"text-align:right;\">2021-04-15 07:10</td></tr>\n",
      "<tr class=\"ligne2 normal\" id=\"970144\" onclick=\"go_details(event,970144);\"><td class=\"tabev0\"></td><td class=\"tabev0\"></td><td class=\"tabev0\"></td><td class=\"tabev6\"><b><i style=\"display:none;\">earthquake</i><a href=\"/Earthquake/earthquake.php?id=970144\">2021-04-15   06:19:07.3</a></b><i class=\"ago\" id=\"ago37\">5hr 51min ago</i></td><td class=\"tabev1\">36.49 </td><td class=\"tabev2\">N  </td><td class=\"tabev1\">27.15 </td><td class=\"tabev2\">E  </td><td class=\"tabev3\">2</td><td class=\"tabev5\" id=\"magtyp37\">ML</td><td class=\"tabev2\">2.4</td><td class=\"tb_region\" id=\"reg37\"> DODECANESE IS.-TURKEY BORDER REG</td><td class=\"comment updatetimeno\" id=\"upd37\" style=\"text-align:right;\">2021-04-15 06:37</td></tr>\n",
      "<tr class=\"ligne1 normal\" id=\"970141\" onclick=\"go_details(event,970141);\"><td class=\"tabev0\"></td><td class=\"tabev0\"></td><td class=\"tabev0\"></td><td class=\"tabev6\"><b><i style=\"display:none;\">earthquake</i><a href=\"/Earthquake/earthquake.php?id=970141\">2021-04-15   05:55:39.8</a></b><i class=\"ago\" id=\"ago38\">6hr 14min ago</i></td><td class=\"tabev1\">39.29 </td><td class=\"tabev2\">N  </td><td class=\"tabev1\">26.09 </td><td class=\"tabev2\">E  </td><td class=\"tabev3\">8</td><td class=\"tabev5\" id=\"magtyp38\">ML</td><td class=\"tabev2\">3.1</td><td class=\"tb_region\" id=\"reg38\"> NEAR THE COAST OF WESTERN TURKEY</td><td class=\"comment updatetimeno\" id=\"upd38\" style=\"text-align:right;\">2021-04-15 06:32</td></tr>\n",
      "<tr class=\"ligne2 normal\" id=\"970143\" onclick=\"go_details(event,970143);\"><td class=\"tabev0\"></td><td class=\"tabev0\"></td><td class=\"tabev0\"></td><td class=\"tabev6\"><b><i style=\"display:none;\">earthquake</i><a href=\"/Earthquake/earthquake.php?id=970143\">2021-04-15   05:53:26.0</a></b><i class=\"ago\" id=\"ago39\">6hr 16min ago</i></td><td class=\"tabev1\">8.01 </td><td class=\"tabev2\">S  </td><td class=\"tabev1\">107.12 </td><td class=\"tabev2\">E  </td><td class=\"tabev3\">10</td><td class=\"tabev5\" id=\"magtyp39\"> M</td><td class=\"tabev2\">2.9</td><td class=\"tb_region\" id=\"reg39\"> JAVA, INDONESIA</td><td class=\"comment updatetimeno\" id=\"upd39\" style=\"text-align:right;\">2021-04-15 06:10</td></tr>\n",
      "<tr class=\"ligne1 normal\" id=\"970135\" onclick=\"go_details(event,970135);\"><td class=\"tabev0\"></td><td class=\"tabev0\"></td><td class=\"tabev0\"></td><td class=\"tabev6\"><b><i style=\"display:none;\">earthquake</i><a href=\"/Earthquake/earthquake.php?id=970135\">2021-04-15   05:43:30.3</a></b><i class=\"ago\" id=\"ago40\">6hr 26min ago</i></td><td class=\"tabev1\">19.23 </td><td class=\"tabev2\">N  </td><td class=\"tabev1\">155.40 </td><td class=\"tabev2\">W  </td><td class=\"tabev3\">32</td><td class=\"tabev5\" id=\"magtyp40\">Md</td><td class=\"tabev2\">2.0</td><td class=\"tb_region\" id=\"reg40\"> ISLAND OF HAWAII, HAWAII</td><td class=\"comment updatetimeno\" id=\"upd40\" style=\"text-align:right;\">2021-04-15 05:46</td></tr>\n",
      "<tr class=\"ligne2 normal\" id=\"970142\" onclick=\"go_details(event,970142);\"><td class=\"tabev0\"></td><td class=\"tabev0\"></td><td class=\"tabev0\"></td><td class=\"tabev6\"><b><i style=\"display:none;\">earthquake</i><a href=\"/Earthquake/earthquake.php?id=970142\">2021-04-15   05:36:09.0</a></b><i class=\"ago\" id=\"ago41\">6hr 34min ago</i></td><td class=\"tabev1\">17.65 </td><td class=\"tabev2\">N  </td><td class=\"tabev1\">97.58 </td><td class=\"tabev2\">W  </td><td class=\"tabev3\">61</td><td class=\"tabev5\" id=\"magtyp41\"> M</td><td class=\"tabev2\">4.1</td><td class=\"tb_region\" id=\"reg41\"> OAXACA, MEXICO</td><td class=\"comment updatetimeno\" id=\"upd41\" style=\"text-align:right;\">2021-04-15 06:00</td></tr>\n",
      "<tr class=\"ligne1 normal\" id=\"970133\" onclick=\"go_details(event,970133);\"><td class=\"tabev0\"></td><td class=\"tabev0\"></td><td class=\"tabev0\"></td><td class=\"tabev6\"><b><i style=\"display:none;\">earthquake</i><a href=\"/Earthquake/earthquake.php?id=970133\">2021-04-15   05:22:39.7</a></b><i class=\"ago\" id=\"ago42\">6hr 47min ago</i></td><td class=\"tabev1\">36.49 </td><td class=\"tabev2\">N  </td><td class=\"tabev1\">27.09 </td><td class=\"tabev2\">E  </td><td class=\"tabev3\">7</td><td class=\"tabev5\" id=\"magtyp42\">ML</td><td class=\"tabev2\">2.1</td><td class=\"tb_region\" id=\"reg42\"> DODECANESE IS.-TURKEY BORDER REG</td><td class=\"comment updatetimeno\" id=\"upd42\" style=\"text-align:right;\">2021-04-15 05:34</td></tr>\n",
      "<tr class=\"ligne2 normal\" id=\"970146\" onclick=\"go_details(event,970146);\"><td class=\"tabev0\"></td><td class=\"tabev0\"></td><td class=\"tabev0\"></td><td class=\"tabev6\"><b><i style=\"display:none;\">earthquake</i><a href=\"/Earthquake/earthquake.php?id=970146\">2021-04-15   05:19:51.1</a></b><i class=\"ago\" id=\"ago43\">6hr 50min ago</i></td><td class=\"tabev1\">63.54 </td><td class=\"tabev2\">N  </td><td class=\"tabev1\">147.33 </td><td class=\"tabev2\">W  </td><td class=\"tabev3\">1</td><td class=\"tabev5\" id=\"magtyp43\">ML</td><td class=\"tabev2\">2.9</td><td class=\"tb_region\" id=\"reg43\"> CENTRAL ALASKA</td><td class=\"comment updatetimeno\" id=\"upd43\" style=\"text-align:right;\">2021-04-15 06:53</td></tr>\n",
      "<tr class=\"ligne1 normal\" id=\"970137\" onclick=\"go_details(event,970137);\"><td class=\"tabev0\"></td><td class=\"tabev0\"></td><td class=\"tabev0\"></td><td class=\"tabev6\"><b><i style=\"display:none;\">earthquake</i><a href=\"/Earthquake/earthquake.php?id=970137\">2021-04-15   05:13:57.8</a></b><i class=\"ago\" id=\"ago44\">6hr 56min ago</i></td><td class=\"tabev1\">32.64 </td><td class=\"tabev2\">N  </td><td class=\"tabev1\">94.07 </td><td class=\"tabev2\">W  </td><td class=\"tabev3\">5</td><td class=\"tabev5\" id=\"magtyp44\">mb</td><td class=\"tabev2\">2.5</td><td class=\"tb_region\" id=\"reg44\"> NORTHERN TEXAS</td><td class=\"comment updatetimeno\" id=\"upd44\" style=\"text-align:right;\">2021-04-15 05:47</td></tr>\n",
      "<tr class=\"ligne2 normal\" id=\"970145\" onclick=\"go_details(event,970145);\"><td class=\"tabev0\"></td><td class=\"tabev0\"></td><td class=\"tabev0\"></td><td class=\"tabev6\"><b><i style=\"display:none;\">earthquake</i><a href=\"/Earthquake/earthquake.php?id=970145\">2021-04-15   04:45:22.7</a></b><i class=\"ago\" id=\"ago45\">7hr 25min ago</i></td><td class=\"tabev1\">39.66 </td><td class=\"tabev2\">N  </td><td class=\"tabev1\">11.84 </td><td class=\"tabev2\">W  </td><td class=\"tabev3\">40</td><td class=\"tabev5\" id=\"magtyp45\">mb</td><td class=\"tabev2\">3.8</td><td class=\"tb_region\" id=\"reg45\"> NORTH ATLANTIC OCEAN</td><td class=\"comment updatetimeno\" id=\"upd45\" style=\"text-align:right;\">2021-04-15 06:49</td></tr>\n",
      "<tr class=\"ligne1 normal\" id=\"970129\" onclick=\"go_details(event,970129);\"><td class=\"tabev0\"></td><td class=\"tabev0\"></td><td class=\"tabev0\"></td><td class=\"tabev6\"><b><i style=\"display:none;\">earthquake</i><a href=\"/Earthquake/earthquake.php?id=970129\">2021-04-15   04:44:47.8</a></b><i class=\"ago\" id=\"ago46\">7hr 25min ago</i></td><td class=\"tabev1\">12.45 </td><td class=\"tabev2\">N  </td><td class=\"tabev1\">141.59 </td><td class=\"tabev2\">E  </td><td class=\"tabev3\">10</td><td class=\"tabev5\" id=\"magtyp46\">mb</td><td class=\"tabev2\">5.3</td><td class=\"tb_region\" id=\"reg46\"> MARIANA ISLANDS REGION</td><td class=\"comment updatetimeno\" id=\"upd46\" style=\"text-align:right;\">2021-04-15 06:33</td></tr>\n",
      "<tr class=\"ligne2 normal\" id=\"970128\" onclick=\"go_details(event,970128);\"><td class=\"tabev0\"></td><td class=\"tabev0\"></td><td class=\"tabev0\"></td><td class=\"tabev6\"><b><i style=\"display:none;\">earthquake</i><a href=\"/Earthquake/earthquake.php?id=970128\">2021-04-15   04:39:10.0</a></b><i class=\"ago\" id=\"ago47\">7hr 31min ago</i></td><td class=\"tabev1\">4.46 </td><td class=\"tabev2\">S  </td><td class=\"tabev1\">103.01 </td><td class=\"tabev2\">E  </td><td class=\"tabev3\">84</td><td class=\"tabev5\" id=\"magtyp47\"> M</td><td class=\"tabev2\">2.9</td><td class=\"tb_region\" id=\"reg47\"> SOUTHERN SUMATRA, INDONESIA</td><td class=\"comment updatetimeno\" id=\"upd47\" style=\"text-align:right;\">2021-04-15 04:50</td></tr>\n",
      "<tr class=\"ligne1 normal\" id=\"970123\" onclick=\"go_details(event,970123);\"><td class=\"tabev0\"></td><td class=\"tabev0\"></td><td class=\"tabev0\"></td><td class=\"tabev6\"><b><i style=\"display:none;\">earthquake</i><a href=\"/Earthquake/earthquake.php?id=970123\">2021-04-15   04:34:28.9</a></b><i class=\"ago\" id=\"ago48\">7hr 35min ago</i></td><td class=\"tabev1\">38.82 </td><td class=\"tabev2\">N  </td><td class=\"tabev1\">122.79 </td><td class=\"tabev2\">W  </td><td class=\"tabev3\">3</td><td class=\"tabev5\" id=\"magtyp48\">Md</td><td class=\"tabev2\">2.2</td><td class=\"tb_region\" id=\"reg48\"> NORTHERN CALIFORNIA</td><td class=\"comment updatetimeno\" id=\"upd48\" style=\"text-align:right;\">2021-04-15 04:36</td></tr>\n",
      "<tr class=\"ligne2 normal\" id=\"970125\" onclick=\"go_details(event,970125);\"><td class=\"tabev0\"></td><td class=\"tabev0\"></td><td class=\"tabev0\"></td><td class=\"tabev6\"><b><i style=\"display:none;\">earthquake</i><a href=\"/Earthquake/earthquake.php?id=970125\">2021-04-15   04:33:55.5</a></b><i class=\"ago\" id=\"ago49\">7hr 36min ago</i></td><td class=\"tabev1\">38.00 </td><td class=\"tabev2\">N  </td><td class=\"tabev1\">27.19 </td><td class=\"tabev2\">E  </td><td class=\"tabev3\">10</td><td class=\"tabev5\" id=\"magtyp49\">ML</td><td class=\"tabev2\">2.1</td><td class=\"tb_region\" id=\"reg49\"> WESTERN TURKEY</td><td class=\"comment updatetimeno\" id=\"upd49\" style=\"text-align:right;\">2021-04-15 06:35</td></tr>\n",
      "</tbody><tfoot><tr><td colspan=\"13\" style=\"height:3px\"></td></tr> <tr class=\"npages\" id=\"my_pagelist_1\"><td colspan=\"13\"><a class=\"sublink sublinka\" href=\"javascript:void()\" rel=\"nofollow\">1</a><a class=\"sublink\" href=\"/Earthquake/?view=2\">2</a><a class=\"sublink\" href=\"/Earthquake/?view=3\">3</a><a class=\"sublink\" href=\"/Earthquake/?view=4\">4</a><a class=\"sublink\" href=\"/Earthquake/?view=5\">5</a><a class=\"sublink\" href=\"/Earthquake/?view=6\">6</a><a class=\"sublink\" href=\"/Earthquake/?view=7\">7</a><a class=\"sublink\" href=\"/Earthquake/?view=8\">8</a><a class=\"sublink\" href=\"/Earthquake/?view=9\">9</a><a class=\"sublink\" href=\"/Earthquake/?view=10\">10</a><a alt=\"Next page\" class=\"sublink\" href=\"/Earthquake/?view=2\">›</a><a alt=\"Next 10 pages\" class=\"sublink\" href=\"/Earthquake/?view=11\">»</a></td></tr><tr><td colspan=\"13\" style=\"border-bottom:1px solid #000;\"></td></tr></tfoot></table><b>Bold : Earthquakes with a magnitude ≥ 4.5 in Euro-med, or ≥ 5.5 in the world </b><br><b style=\"color:red;\">Red : Earthquakes with a magnitude ≥ 5 in Euro-med, or ≥ 6 in the world </b><br><script>\r\n",
      "\t\t\t\tvar nb_event_on_page=50;\r\n",
      "\t\t\t\r\n",
      "\t\t\t\tfunction cancel_evt(e) {\r\n",
      "\t\t\t\t\tif(e.bubbles===undefined) e.cancelBubble = true;\r\n",
      "\t\t\t\t\telse e.stopPropagation();\r\n",
      "\t\t\t\t}\t\r\n",
      "\t\t\t\tfunction go_details(e,id,page) {\r\n",
      "\t\t\t\t\tif((!id) || (id==null)) {\r\n",
      "\t\t\t\t\t\tcancel_evt(e);\r\n",
      "\t\t\t\t\t\twindow.open(page,\"Intensity_Map\",\"menubar=no, status=no, scrollbars=no, menubar=no, width=900, height=1000\");\r\n",
      "\t\t\t\t\t}\t\r\n",
      "\t\t\t\t\telse document.location.href=\"/Earthquake/earthquake.php?id=\"+id;\r\n",
      "\t\t\t\t}\r\n",
      "\t\t\t\t\r\n",
      "\t\t\t\tvar is_hide_magni=true;\r\n",
      "\t\t\t\tfunction hide_magni() {\r\n",
      "\t\t\t\t\tif(!is_hide_magni) {\r\n",
      "\t\t\t\t\t\tis_hide_magni=true;\r\n",
      "\t\t\t\t\t\tif(document.getElementById(\"thmag\")) document.getElementById(\"thmag\").colSpan=\"1\";\r\n",
      "\t\t\t\t\t\tif(document.getElementById(\"magplus\")) document.getElementById(\"magplus\").innerHTML=\"[+]\";\r\n",
      "\t\t\t\t\t\tfor (i=0;i<= nb_event_on_page;i++) {\r\n",
      "\t\t\t\t\t\t\tif(document.getElementById(\"magtyp\"+i)) { document.getElementById(\"magtyp\"+i).className=\"tabev5\"; } \r\n",
      "\t\t\t\t\t\t}\r\n",
      "\t\t\t\t\t}\r\n",
      "\t\t\t\t\telse {\r\n",
      "\t\t\t\t\t\tis_hide_magni=false;\r\n",
      "\t\t\t\t\t\tif(document.getElementById(\"thmag\")) document.getElementById(\"thmag\").colSpan=\"2\";\r\n",
      "\t\t\t\t\t\tif(document.getElementById(\"magplus\")) document.getElementById(\"magplus\").innerHTML=\"[-]\";\r\n",
      "\t\t\t\t\t\tfor (i=0;i<= nb_event_on_page;i++) {\r\n",
      "\t\t\t\t\t\t\tif(document.getElementById(\"magtyp\"+i)) {document.getElementById(\"magtyp\"+i).className=\"tabev52\"; } \r\n",
      "\t\t\t\t\t\t}\r\n",
      "\t\t\t\t\t}\t\r\n",
      "\t\t\t\t}\t\r\n",
      "\t\t\t\t\r\n",
      "\t\t\t\tvar ishide=true;\r\n",
      "\t\t\t\tfunction hide_upd() {\r\n",
      "\t\t\t\t\tvar i=0;\r\n",
      "\t\t\t\t\tif(!ishide) {\r\n",
      "\t\t\t\t\t\tishide=true;\r\n",
      "\t\t\t\t\t\tdocument.getElementById(\"upd\").className=\"th2 updatetimeno\";\r\n",
      "\t\t\t\t\t\tdocument.getElementById(\"upda\").style.display=\"block\";\r\n",
      "\t\t\t\t\t\t\r\n",
      "\t\t\t\t\t\tfor (i=0;i<= nb_event_on_page;i++) {\r\n",
      "\t\t\t\t\t\t\tif(document.getElementById(\"upd\"+i)) document.getElementById(\"upd\"+i).className=\"comment updatetimeno\";\r\n",
      "\t\t\t\t\t\t\tif(document.getElementById(\"reg\"+i)) document.getElementById(\"reg\"+i).style.paddingLeft=\"20px\";\r\n",
      "\t\t\t\t\t\t}\t\r\n",
      "\t\t\t\t\t}\r\n",
      "\t\t\t\t\telse {\r\n",
      "\t\t\t\t\t\t\tishide=false;\r\n",
      "\t\t\t\t\t\tdocument.getElementById(\"upda\").style.display=\"none\";\t\r\n",
      "\t\t\t\t\t\tdocument.getElementById(\"upd\").className=\"th2\";\r\n",
      "\t\t\t\t\t\t\r\n",
      "\t\t\t\t\t\tfor (i=0;i<= nb_event_on_page;i++) {\r\n",
      "\t\t\t\t\t\t\tif(document.getElementById(\"reg\"+i)) document.getElementById(\"reg\"+i).style.paddingLeft=\"4px\";\r\n",
      "\t\t\t\t\t\t\tif(document.getElementById(\"upd\"+i)) document.getElementById(\"upd\"+i).className=\"comment\";\r\n",
      "\t\t\t\t\t\t}\t\r\n",
      "\t\t\t\t\t\t\r\n",
      "\t\t\t\t\t}\t\r\n",
      "\t\t\t\t}\r\n",
      "\t\t\t\t\tfunction update_ago() {\r\n",
      "\t\t\t\t\t\tvar i=0;\r\n",
      "\t\t\t\t\t\tvar def=new Array(\"min ago\",\"hr \");\r\n",
      "\t\t\t\t\t\twhile( document.getElementById(\"ago\"+i)) { \r\n",
      "\t\t\t\t\t\t\tvar tb=new Array();\r\n",
      "\t\t\t\t\t\t\tvar elem=document.getElementById(\"ago\"+i);\r\n",
      "\t\t\t\t\t\t\tvar str=elem.innerHTML.replace(/min ago/i,\"\").replace(/hr/i,\"\");\r\n",
      "\t\t\t\t\t\t\ttb=str.split(\" \").reverse();\r\n",
      "\t\t\t\t\t\t\t//if(i==0) alert(\"**\"+str+\"**\"+tb[0]+\" | \"+tb[1]);\r\n",
      "\t\t\t\t\t\t\tvar str2=\"\";\r\n",
      "\t\t\t\t\t\t\tvar ln=tb.length;\r\n",
      "\t\t\t\t\t\t\tvar j=0;\r\n",
      "\t\t\t\t\t\t\r\n",
      "\t\t\t\t\t\t\ttb[j]=parseFloat(tb[j])+1;\r\n",
      "\t\t\t\t\t\t\tif(tb[j]==60) {\r\n",
      "\t\t\t\t\t\t\t\ttb[j]=0;\r\n",
      "\t\t\t\t\t\t\t\tif(ln<=1) tb[j+1]=0;\r\n",
      "\t\t\t\t\t\t\t\ttb[j+1]=parseFloat(tb[j+1])+1;\r\n",
      "\t\t\t\t\t\t\t\tif(tb[j+1]>=12) elem.parentNode.removeChild(elem);\r\n",
      "\t\t\t\t\t\t\t}\t\r\n",
      "\t\t\t\t\t\t\tif(tb[j]<10) { tb[j]=\"0\"+tb[j]; }\r\n",
      "\t\t\t\t\t\t\t\t\r\n",
      "\t\t\t\t\t\t\tdo {\r\n",
      "\t\t\t\t\t\t\t\ttb[j]+=def[j];\r\n",
      "\t\t\t\t\t\t\t\tj++;\r\n",
      "\t\t\t\t\t\t\t} while(tb.length>=(j+1));\t\r\n",
      "\t\t\t\t\t\t\t\r\n",
      "\t\t\t\t\t\t\ttb.reverse();\r\n",
      "\t\t\t\t\t\t\tfor(var z=0; z<tb.length;z++) {\r\n",
      "\t\t\t\t\t\t\t\tstr2+=tb[z];\r\n",
      "\t\t\t\t\t\t\t}\t\r\n",
      "\t\t\t\t\r\n",
      "\t\t\t\t\t\t\telem.innerHTML=str2;\r\n",
      "\t\t\t\t\t\t\t//alert(str2);\r\n",
      "\t\t\t\t\t\t\ti++;\r\n",
      "\t\t\t\t\t\t} \r\n",
      "\t\t\t\t\t\tsetTimeout(\"update_ago()\",60000); //1min \r\n",
      "\t\t\t\t\t}\r\n",
      "\t\t\t\t\tsetTimeout(\"update_ago()\",60000);\r\n",
      "\t\t\t\t\t //update_ago();\r\n",
      "\t\t\t\tvar tab_time=new Array( {evid:970202, time:\"2021-04-15&#160;&#160;&#160;11:56:30.0\", times:\"1618487790\"},{evid:970200, time:\"2021-04-15&#160;&#160;&#160;11:38:03.0\", times:\"1618486683\"},{evid:970197, time:\"2021-04-15&#160;&#160;&#160;11:29:14.0\", times:\"1618486154\"},{evid:970201, time:\"2021-04-15&#160;&#160;&#160;11:23:49.9\", times:\"1618485829.9\"},{evid:970199, time:\"2021-04-15&#160;&#160;&#160;11:21:35.0\", times:\"1618485695\"},{evid:970198, time:\"2021-04-15&#160;&#160;&#160;11:11:55.0\", times:\"1618485115\"},{evid:970194, time:\"2021-04-15&#160;&#160;&#160;11:07:46.6\", times:\"1618484866.6\"},{evid:970192, time:\"2021-04-15&#160;&#160;&#160;11:04:56.4\", times:\"1618484696.4\"},{evid:970195, time:\"2021-04-15&#160;&#160;&#160;10:53:34.7\", times:\"1618484014.7\"},{evid:970188, time:\"2021-04-15&#160;&#160;&#160;10:36:20.6\", times:\"1618482980.6\"},{evid:970189, time:\"2021-04-15&#160;&#160;&#160;10:35:27.0\", times:\"1618482927\"},{evid:970186, time:\"2021-04-15&#160;&#160;&#160;10:14:25.4\", times:\"1618481665.4\"},{evid:970185, time:\"2021-04-15&#160;&#160;&#160;10:07:36.8\", times:\"1618481256.8\"},{evid:970183, time:\"2021-04-15&#160;&#160;&#160;10:05:50.0\", times:\"1618481150\"},{evid:970187, time:\"2021-04-15&#160;&#160;&#160;09:58:22.0\", times:\"1618480702\"},{evid:970182, time:\"2021-04-15&#160;&#160;&#160;09:56:32.2\", times:\"1618480592.2\"},{evid:970184, time:\"2021-04-15&#160;&#160;&#160;09:52:25.6\", times:\"1618480345.6\"},{evid:970179, time:\"2021-04-15&#160;&#160;&#160;09:46:39.2\", times:\"1618479999.2\"},{evid:970178, time:\"2021-04-15&#160;&#160;&#160;09:44:42.1\", times:\"1618479882.1\"},{evid:970175, time:\"2021-04-15&#160;&#160;&#160;09:36:28.5\", times:\"1618479388.5\"},{evid:970173, time:\"2021-04-15&#160;&#160;&#160;09:29:54.2\", times:\"1618478994.2\"},{evid:970171, time:\"2021-04-15&#160;&#160;&#160;09:09:52.0\", times:\"1618477792\"},{evid:970176, time:\"2021-04-15&#160;&#160;&#160;09:09:07.6\", times:\"1618477747.6\"},{evid:970167, time:\"2021-04-15&#160;&#160;&#160;08:40:28.2\", times:\"1618476028.2\"},{evid:970165, time:\"2021-04-15&#160;&#160;&#160;08:33:40.7\", times:\"1618475620.7\"},{evid:970160, time:\"2021-04-15&#160;&#160;&#160;08:26:16.0\", times:\"1618475176\"},{evid:970159, time:\"2021-04-15&#160;&#160;&#160;08:22:25.3\", times:\"1618474945.3\"},{evid:970158, time:\"2021-04-15&#160;&#160;&#160;08:19:20.0\", times:\"1618474760\"},{evid:970156, time:\"2021-04-15&#160;&#160;&#160;07:59:03.7\", times:\"1618473543.7\"},{evid:970154, time:\"2021-04-15&#160;&#160;&#160;07:58:29.3\", times:\"1618473509.3\"},{evid:970153, time:\"2021-04-15&#160;&#160;&#160;07:42:19.0\", times:\"1618472539\"},{evid:970157, time:\"2021-04-15&#160;&#160;&#160;07:30:39.4\", times:\"1618471839.4\"},{evid:970151, time:\"2021-04-15&#160;&#160;&#160;07:26:30.8\", times:\"1618471590.8\"},{evid:970149, time:\"2021-04-15&#160;&#160;&#160;07:11:06.0\", times:\"1618470666\"},{evid:970148, time:\"2021-04-15&#160;&#160;&#160;07:07:56.7\", times:\"1618470476.7\"},{evid:970155, time:\"2021-04-15&#160;&#160;&#160;07:02:22.2\", times:\"1618470142.2\"},{evid:970147, time:\"2021-04-15&#160;&#160;&#160;06:23:17.7\", times:\"1618467797.7\"},{evid:970144, time:\"2021-04-15&#160;&#160;&#160;06:19:07.3\", times:\"1618467547.3\"},{evid:970141, time:\"2021-04-15&#160;&#160;&#160;05:55:39.8\", times:\"1618466139.8\"},{evid:970143, time:\"2021-04-15&#160;&#160;&#160;05:53:26.0\", times:\"1618466006\"},{evid:970135, time:\"2021-04-15&#160;&#160;&#160;05:43:30.3\", times:\"1618465410.3\"},{evid:970142, time:\"2021-04-15&#160;&#160;&#160;05:36:09.0\", times:\"1618464969\"},{evid:970133, time:\"2021-04-15&#160;&#160;&#160;05:22:39.7\", times:\"1618464159.7\"},{evid:970146, time:\"2021-04-15&#160;&#160;&#160;05:19:51.1\", times:\"1618463991.1\"},{evid:970137, time:\"2021-04-15&#160;&#160;&#160;05:13:57.8\", times:\"1618463637.8\"},{evid:970145, time:\"2021-04-15&#160;&#160;&#160;04:45:22.7\", times:\"1618461922.7\"},{evid:970129, time:\"2021-04-15&#160;&#160;&#160;04:44:47.8\", times:\"1618461887.8\"},{evid:970128, time:\"2021-04-15&#160;&#160;&#160;04:39:10.0\", times:\"1618461550\"},{evid:970123, time:\"2021-04-15&#160;&#160;&#160;04:34:28.9\", times:\"1618461268.9\"},{evid:970125, time:\"2021-04-15&#160;&#160;&#160;04:33:55.5\", times:\"1618461235.5\"});\n",
      "var tab_tab=new Array( {evid:970202, ago:\"13min ago\", comm: \"0\", pics: \"0\", intens: \"-1\", lat:\"-23.96\", lon:\"-66.95\", depth:\"212\", mag:\"3.3\", reg:\"JUJUY, ARGENTINA\",upd:\"1618488060\"},{evid:970200, ago:\"32min ago\", comm: \"0\", pics: \"0\", intens: \"-1\", lat:\"-25.48\", lon:\"-69.08\", depth:\"136\", mag:\"2.9\", reg:\"ANTOFAGASTA, CHILE\",upd:\"1618487280\"},{evid:970197, ago:\"41min ago\", comm: \"0\", pics: \"0\", intens: \"-1\", lat:\"-8.31\", lon:\"115.51\", depth:\"10\", mag:\"2.8\", reg:\"BALI REGION, INDONESIA\",upd:\"1618486560\"},{evid:970201, ago:\"46min ago\", comm: \"0\", pics: \"0\", intens: \"-1\", lat:\"41.59\", lon:\"142.03\", depth:\"63\", mag:\"4.3\", reg:\"HOKKAIDO, JAPAN REGION\",upd:\"1618487580\"},{evid:970199, ago:\"48min ago\", comm: \"0\", pics: \"0\", intens: \"-1\", lat:\"-9.52\", lon:\"117.13\", depth:\"22\", mag:\"2.5\", reg:\"SUMBAWA REGION, INDONESIA\",upd:\"1618487100\"},{evid:970198, ago:\"58min ago\", comm: \"0\", pics: \"0\", intens: \"-1\", lat:\"-10.11\", lon:\"117.06\", depth:\"10\", mag:\"2.6\", reg:\"SOUTH OF SUMBAWA, INDONESIA\",upd:\"1618486800\"},{evid:970194, ago:\"1hr 02min ago\", comm: \"0\", pics: \"0\", intens: \"-1\", lat:\"-22.32\", lon:\"-69.84\", depth:\"40\", mag:\"3.9\", reg:\"ANTOFAGASTA, CHILE\",upd:\"1618485480\"},{evid:970192, ago:\"1hr 05min ago\", comm: \"0\", pics: \"0\", intens: \"-1\", lat:\"35.29\", lon:\"27.51\", depth:\"3\", mag:\"2.5\", reg:\"DODECANESE ISLANDS, GREECE\",upd:\"1618485060\"},{evid:970195, ago:\"1hr 16min ago\", comm: \"0\", pics: \"0\", intens: \"-1\", lat:\"-17.90\", lon:\"-177.82\", depth:\"624\", mag:\"4.2\", reg:\"FIJI REGION\",upd:\"1618485900\"},{evid:970188, ago:\"1hr 34min ago\", comm: \"8\", pics: \"0\", intens: \"4\", lat:\"-10.40\", lon:\"117.07\", depth:\"10\", mag:\"5.4\", reg:\"SOUTH OF SUMBAWA, INDONESIA\",upd:\"1618485120\"},{evid:970189, ago:\"1hr 34min ago\", comm: \"0\", pics: \"0\", intens: \"-1\", lat:\"-24.29\", lon:\"-69.18\", depth:\"88\", mag:\"2.8\", reg:\"ANTOFAGASTA, CHILE\",upd:\"1618483320\"},{evid:970186, ago:\"1hr 55min ago\", comm: \"1\", pics: \"0\", intens: \"0\", lat:\"39.29\", lon:\"26.09\", depth:\"9\", mag:\"2.6\", reg:\"NEAR THE COAST OF WESTERN TURKEY\",upd:\"1618485060\"},{evid:970185, ago:\"2hr 02min ago\", comm: \"0\", pics: \"0\", intens: \"-1\", lat:\"34.39\", lon:\"-97.43\", depth:\"3\", mag:\"2.1\", reg:\"OKLAHOMA\",upd:\"1618481520\"},{evid:970183, ago:\"2hr 04min ago\", comm: \"0\", pics: \"0\", intens: \"-1\", lat:\"-15.71\", lon:\"-74.64\", depth:\"43\", mag:\"4.4\", reg:\"NEAR COAST OF SOUTHERN PERU\",upd:\"1618481400\"},{evid:970187, ago:\"2hr 12min ago\", comm: \"0\", pics: \"0\", intens: \"-1\", lat:\"16.12\", lon:\"-99.24\", depth:\"10\", mag:\"4.2\", reg:\"OFFSHORE GUERRERO, MEXICO\",upd:\"1618482060\"},{evid:970182, ago:\"2hr 13min ago\", comm: \"0\", pics: \"0\", intens: \"-1\", lat:\"19.22\", lon:\"-155.41\", depth:\"30\", mag:\"2.1\", reg:\"ISLAND OF HAWAII, HAWAII\",upd:\"1618480920\"},{evid:970184, ago:\"2hr 17min ago\", comm: \"0\", pics: \"0\", intens: \"-1\", lat:\"-29.90\", lon:\"137.84\", depth:\"7\", mag:\"3.6\", reg:\"SOUTH AUSTRALIA\",upd:\"1618481460\"},{evid:970179, ago:\"2hr 23min ago\", comm: \"0\", pics: \"0\", intens: \"-1\", lat:\"19.20\", lon:\"-155.41\", depth:\"34\", mag:\"2.2\", reg:\"ISLAND OF HAWAII, HAWAII\",upd:\"1618480320\"},{evid:970178, ago:\"2hr 25min ago\", comm: \"0\", pics: \"0\", intens: \"-1\", lat:\"47.55\", lon:\"8.17\", depth:\"1\", mag:\"1.9\", reg:\"SWITZERLAND\",upd:\"1618480200\"},{evid:970175, ago:\"2hr 33min ago\", comm: \"0\", pics: \"0\", intens: \"-1\", lat:\"48.17\", lon:\"-4.44\", depth:\"2\", mag:\"2.2\", reg:\"FRANCE\",upd:\"1618480200\"},{evid:970173, ago:\"2hr 40min ago\", comm: \"0\", pics: \"0\", intens: \"-1\", lat:\"68.13\", lon:\"-18.49\", depth:\"10\", mag:\"4.4\", reg:\"ICELAND REGION\",upd:\"1618485060\"},{evid:970171, ago:\"3hr 00min ago\", comm: \"0\", pics: \"0\", intens: \"-1\", lat:\"-36.23\", lon:\"-70.51\", depth:\"19\", mag:\"2.5\", reg:\"NEUQUEN, ARGENTINA\",upd:\"1618478460\"},{evid:970176, ago:\"3hr 01min ago\", comm: \"0\", pics: \"0\", intens: \"-1\", lat:\"35.46\", lon:\"28.50\", depth:\"10\", mag:\"2.5\", reg:\"EASTERN MEDITERRANEAN SEA\",upd:\"1618479840\"},{evid:970167, ago:\"3hr 29min ago\", comm: \"0\", pics: \"0\", intens: \"-1\", lat:\"18.01\", lon:\"-66.76\", depth:\"10\", mag:\"2.7\", reg:\"PUERTO RICO\",upd:\"1618476900\"},{evid:970165, ago:\"3hr 36min ago\", comm: \"0\", pics: \"0\", intens: \"-1\", lat:\"53.59\", lon:\"171.58\", depth:\"10\", mag:\"5.3\", reg:\"NEAR ISLANDS, ALEUTIAN ISLANDS\",upd:\"1618478400\"},{evid:970160, ago:\"3hr 44min ago\", comm: \"0\", pics: \"0\", intens: \"-1\", lat:\"-28.17\", lon:\"-71.41\", depth:\"27\", mag:\"2.5\", reg:\"OFFSHORE ATACAMA, CHILE\",upd:\"1618475640\"},{evid:970159, ago:\"3hr 47min ago\", comm: \"0\", pics: \"0\", intens: \"-1\", lat:\"-35.65\", lon:\"178.30\", depth:\"213\", mag:\"3.9\", reg:\"OFF E. COAST OF N. ISLAND, N.Z.\",upd:\"1618475100\"},{evid:970158, ago:\"3hr 51min ago\", comm: \"0\", pics: \"0\", intens: \"-1\", lat:\"37.58\", lon:\"-121.68\", depth:\"3\", mag:\"2.1\", reg:\"NORTHERN CALIFORNIA\",upd:\"1618474800\"},{evid:970156, ago:\"4hr 11min ago\", comm: \"0\", pics: \"0\", intens: \"-1\", lat:\"36.45\", lon:\"27.13\", depth:\"7\", mag:\"2.1\", reg:\"DODECANESE IS.-TURKEY BORDER REG\",upd:\"1618473840\"},{evid:970154, ago:\"4hr 11min ago\", comm: \"0\", pics: \"0\", intens: \"-1\", lat:\"40.30\", lon:\"-124.43\", depth:\"11\", mag:\"2.6\", reg:\"OFFSHORE NORTHERN CALIFORNIA\",upd:\"1618473600\"},{evid:970153, ago:\"4hr 28min ago\", comm: \"0\", pics: \"0\", intens: \"-1\", lat:\"-21.17\", lon:\"-68.76\", depth:\"114\", mag:\"3.3\", reg:\"TARAPACA, CHILE\",upd:\"1618473480\"},{evid:970157, ago:\"4hr 39min ago\", comm: \"0\", pics: \"0\", intens: \"-1\", lat:\"42.52\", lon:\"1.86\", depth:\"1\", mag:\"1.6\", reg:\"PYRENEES\",upd:\"1618474200\"},{evid:970151, ago:\"4hr 43min ago\", comm: \"0\", pics: \"0\", intens: \"-1\", lat:\"36.96\", lon:\"-98.09\", depth:\"5\", mag:\"2.8\", reg:\"OKLAHOMA\",upd:\"1618471920\"},{evid:970149, ago:\"4hr 59min ago\", comm: \"0\", pics: \"0\", intens: \"-1\", lat:\"-32.28\", lon:\"-67.93\", depth:\"124\", mag:\"3.6\", reg:\"MENDOZA, ARGENTINA\",upd:\"1618471200\"},{evid:970148, ago:\"5hr 02min ago\", comm: \"0\", pics: \"0\", intens: \"-1\", lat:\"39.30\", lon:\"26.09\", depth:\"7\", mag:\"2.5\", reg:\"NEAR THE COAST OF WESTERN TURKEY\",upd:\"1618478340\"},{evid:970155, ago:\"5hr 08min ago\", comm: \"0\", pics: \"0\", intens: \"-1\", lat:\"28.96\", lon:\"-13.35\", depth:\"7\", mag:\"1.8\", reg:\"CANARY ISLANDS, SPAIN REGION\",upd:\"1618473840\"},{evid:970147, ago:\"5hr 47min ago\", comm: \"0\", pics: \"0\", intens: \"-1\", lat:\"61.53\", lon:\"-146.53\", depth:\"4\", mag:\"2.7\", reg:\"SOUTHERN ALASKA\",upd:\"1618470600\"},{evid:970144, ago:\"5hr 51min ago\", comm: \"0\", pics: \"0\", intens: \"-1\", lat:\"36.49\", lon:\"27.15\", depth:\"2\", mag:\"2.4\", reg:\"DODECANESE IS.-TURKEY BORDER REG\",upd:\"1618468620\"},{evid:970141, ago:\"6hr 14min ago\", comm: \"0\", pics: \"0\", intens: \"-1\", lat:\"39.29\", lon:\"26.09\", depth:\"8\", mag:\"3.1\", reg:\"NEAR THE COAST OF WESTERN TURKEY\",upd:\"1618468320\"},{evid:970143, ago:\"6hr 16min ago\", comm: \"0\", pics: \"0\", intens: \"-1\", lat:\"-8.01\", lon:\"107.12\", depth:\"10\", mag:\"2.9\", reg:\"JAVA, INDONESIA\",upd:\"1618467000\"},{evid:970135, ago:\"6hr 26min ago\", comm: \"0\", pics: \"0\", intens: \"-1\", lat:\"19.23\", lon:\"-155.40\", depth:\"32\", mag:\"2.0\", reg:\"ISLAND OF HAWAII, HAWAII\",upd:\"1618465560\"},{evid:970142, ago:\"6hr 34min ago\", comm: \"0\", pics: \"0\", intens: \"-1\", lat:\"17.65\", lon:\"-97.58\", depth:\"61\", mag:\"4.1\", reg:\"OAXACA, MEXICO\",upd:\"1618466400\"},{evid:970133, ago:\"6hr 47min ago\", comm: \"0\", pics: \"0\", intens: \"-1\", lat:\"36.49\", lon:\"27.09\", depth:\"7\", mag:\"2.1\", reg:\"DODECANESE IS.-TURKEY BORDER REG\",upd:\"1618464840\"},{evid:970146, ago:\"6hr 50min ago\", comm: \"0\", pics: \"0\", intens: \"-1\", lat:\"63.54\", lon:\"-147.33\", depth:\"1\", mag:\"2.9\", reg:\"CENTRAL ALASKA\",upd:\"1618469580\"},{evid:970137, ago:\"6hr 56min ago\", comm: \"0\", pics: \"0\", intens: \"-1\", lat:\"32.64\", lon:\"-94.07\", depth:\"5\", mag:\"2.5\", reg:\"NORTHERN TEXAS\",upd:\"1618465620\"},{evid:970145, ago:\"7hr 25min ago\", comm: \"0\", pics: \"0\", intens: \"-1\", lat:\"39.66\", lon:\"-11.84\", depth:\"40\", mag:\"3.8\", reg:\"NORTH ATLANTIC OCEAN\",upd:\"1618469340\"},{evid:970129, ago:\"7hr 25min ago\", comm: \"0\", pics: \"0\", intens: \"-1\", lat:\"12.45\", lon:\"141.59\", depth:\"10\", mag:\"5.3\", reg:\"MARIANA ISLANDS REGION\",upd:\"1618468380\"},{evid:970128, ago:\"7hr 31min ago\", comm: \"0\", pics: \"0\", intens: \"-1\", lat:\"-4.46\", lon:\"103.01\", depth:\"84\", mag:\"2.9\", reg:\"SOUTHERN SUMATRA, INDONESIA\",upd:\"1618462200\"},{evid:970123, ago:\"7hr 35min ago\", comm: \"0\", pics: \"0\", intens: \"-1\", lat:\"38.82\", lon:\"-122.79\", depth:\"3\", mag:\"2.2\", reg:\"NORTHERN CALIFORNIA\",upd:\"1618461360\"},{evid:970125, ago:\"7hr 36min ago\", comm: \"0\", pics: \"0\", intens: \"-1\", lat:\"38.00\", lon:\"27.19\", depth:\"10\", mag:\"2.1\", reg:\"WESTERN TURKEY\",upd:\"1618468500\"});\n",
      "\r\n",
      "\t\t\t\tvar tab_num_alpha=new Array({reg:false,lat:true,lon:true,mag:true,depth:true,upd:true,intens:true,comm:true,pics:true}); \r\n",
      "\t\t\t\t//addonload(hide_upd);\r\n",
      "\t\t\t</script><span onmouseout=\"info_b('notshow','','');\" onmouseover=\"info_b('show','This list of events should not be considered as complete. &lt;br /&gt;\t\t\t\tEarthquakes with smaller magnitudes are reported for the Euro-Mediterranenan region.&lt;br /&gt;\t\t\t\tThe reported locations have not been computed by the EMSC and the automatic location can be inaccurate.&lt;br /&gt;\t\t\t\tThis list is fully dynamic and the information is updated as often as necessary.&lt;br /&gt;\t\t\t\tThis is particulary the case in the very first hours following an earthquake occurence','Disclaimer');\"><a href=\"/Earthquake/?disclam=yes\">Disclaimer</a></span><script> function changeLocation(adress) { window.location.href = adress; }\r\n",
      "\t\t\t\t//function refreshcsem(adress,timeout) { setTimeout('changeLocation(\"'+adress+'\")',timeout*60000); }\r\n",
      "\t\t\t\t//if(/www/i.test(window.location.href)) refreshcsem(\"/Earthquake/?csemrefresh=true\",5);\r\n",
      "\t\t\t\tfunction rl(timeout) { setTimeout(function() { window.location.reload(); },  timeout*60000); }\r\n",
      "\t\t\t\trl(5);\r\n",
      "\t\t</script><script>\r\n",
      "var objbeta=new createEMSCWidget(\"beta1\",65,\"left\",\"POPULARITY MAP\",new Array(0,0,255),new Array(255,0,0),false); \r\n",
      "objbeta.W_init(\"iframe\",\"/Tools/realtimefeltmap.php?xminbefore=5&width=740&height=350\",700,420);\r\n",
      "</script><p> </p>\n",
      "</br></br></div><!-- End content -->\n",
      "<div class=\"clearer\"></div>\n",
      "</div><!-- End container --><div id=\"footer\"><!-- ======== PIED DE PAGE ====== -->\n",
      "<div id=\"footer2\">\n",
      "<a href=\"https://www.emsc-csem.org/faq.php\"><b>FAQ</b></a>   <a href=\"https://www.emsc-csem.org/about/\"><b>About EMSC</b></a>\r\n",
      "            <span id=\"mast\"></span><script type=\"text/javascript\">at(\"webmaster_0_emsc-csem_8_org\",true,\"\",\"mast\",\"If you have any comments, please contact us\");</script>            \r\n",
      "<a href=\"https://www.emsc-csem.org/sitemap.php\"><b>Site Map</b></a>   <a href=\"https://www.emsc-csem.org/Search/\"><b>Search</b></a><br/><br/>\n",
      "<span id=\"media\" style=\"float:left;width:50%;\">Media : <a href=\"http://twitter.com/lastquake\" target=\"_blank\"><span class=\"spriteorig sp_twitter\" title=\"twitter: @lastquake\"></span></a>  <a href=\"http://twitter.com/EMSC\" target=\"_blank\"><span class=\"spriteorig sp_twitter\" title=\"twitter: @EMSC\"></span></a>  <a href=\"http://www.facebook.com/pages/EMSC-CSEM/207151812690551?sk=wall\" target=\"_blank\"><span class=\"spriteorig sp_facebook\" title=\"facebook: EMSC-CSEM\"></span></a>  <a href=\"https://t.me/LastQuake2\" target=\"_blank\"><span style=\"display:inline-block;background:url(https://static3.emsc.eu/Css/img/telegram-24.png) no-repeat;width:24px;height:24px;\" title=\"Telegram: LastQuake2\"></span></a>  <a href=\"https://t.me/AllQuakes2\" target=\"_blank\"><span style=\"display:inline-block;background:url(https://static3.emsc.eu/Css/img/telegram-24.png) no-repeat;width:24px;height:24px;\" title=\"Telegram: AllQuakes2\"></span></a>  <a href=\"http://www.youtube.com/user/EuroMSC\" target=\"_blank\"><span class=\"spriteorig sp_youtube\" title=\"youtube: EuroMSC\"></span></a>\n",
      "</span>Compatibility : <span class=\"browser spriteorig sp_chrome\" title=\"chrome\"></span><span class=\"browser spriteorig sp_firefox\" title=\"firefox\"></span><span class=\"browser spriteorig sp_ie\" title=\"internet explorer\"></span><span class=\"browser spriteorig sp_opera\" title=\"opera\"></span><span class=\"browser spriteorig sp_safari\" title=\"safari\"></span><br/><br/>\n",
      "<center>© 2010 - <b><a href=\"/policy.php\">Privacy</a></b></center>\n",
      "</div></div><!-- Global site tag (gtag.js) - Google Analytics -->\n",
      "<script async=\"\" src=\"https://www.googletagmanager.com/gtag/js?id=UA-810235-1\"></script>\n",
      "<script>\r\n",
      "  window.dataLayer = window.dataLayer || [];\r\n",
      "  function gtag(){dataLayer.push(arguments);}\r\n",
      "  gtag('js', new Date());\r\n",
      "\r\n",
      "  gtag('config', 'UA-810235-1');\r\n",
      "</script>\n",
      "<!-- Start of StatCounter Code -->\n",
      "<script type=\"text/javascript\">\r\n",
      "\tvar sc_project=217829; \r\n",
      "\tvar sc_invisible=1; \r\n",
      "\tvar sc_security=\"\"; \r\n",
      "\t</script>\n",
      "<script async=\"true\" src=\"https://www.statcounter.com/counter/counter.js\" type=\"text/javascript\"></script>\n",
      "<noscript><div class=\"statcounter\" style=\"display:none;\"><a href=\"http://www.statcounter.com/\" target=\"_blank\" title=\"hit counter\"><img alt=\"hit counter\" class=\"statcounter\" src=\"https://c.statcounter.com/217829/0//1/\" style=\"width:1px;height:1px;\"/></a></div></noscript>\n",
      "<!-- End of StatCounter Code -->\n",
      "<span id=\"mesure\" style=\"visibility:hidden; white-space:nowrap;\"></span> <script> \r\n",
      "\t\t\r\n",
      "\t\tvar socketE,intervalID ;\r\n",
      "\t\t\r\n",
      "\t\tfunction conn_io() {\r\n",
      "\t\t\tif (typeof io == \"undefined\") \tsetTimeout(\"conn_io()\",200);\r\n",
      "\t\t\telse { \r\n",
      "\t\t\t\tvar isMobile= (/android|mobile|webos|iphone|ipad|ipod|blackberry|iemobile|opera mini/i.test(navigator.userAgent.toLowerCase()));\r\n",
      "\t\t\t\tvar opts={transports:[\"polling\"]};\r\n",
      "\t\t\t\tif(/*!isMobile &&*/ window.WebSocket) opts.transports.unshift(\"websocket\"); //opts.transports.push(\"websocket\");  //\r\n",
      "\t\t\t\t\t//console.log(opts.transports);  console.log(navigator.userAgent.toLowerCase());\r\n",
      "\t\t\t\tsocketE=io.connect(\"https://zebu-neries.emsc-csem.org/Traffic?REF=\"+escape(document.referrer),opts); \r\n",
      "\t\t\t\tsocketE.on(\"connect\", function () { \r\n",
      "\t\t\t\t\tsocketE.on(\"cookie\", function (msg) { \r\n",
      "\t\t\t\t\t\tconsole.log(msg); \r\n",
      "\t\t\t\t\t\tvar xjs=document.createElement(\"script\"); xjs.src=\"https://zebu-neries.emsc-csem.org/?addSockId=\"+msg.name+\"&value=\"+msg.value+\"&expires=\"+msg.expires; xjs.type=\"text/javascript\"; document.getElementsByTagName(\"head\")[0].appendChild(xjs);\r\n",
      "\t\t\t\t\t});\r\n",
      "\t\t\t\t});\r\n",
      "\t\t\t\tsocketE.on(\"banner\", function (msg) { /*console.log(msg);*/ /*if(typeof treat_quick_traffic_peak !=\"undefined\") { treat_quick_traffic_peak(JSON.parse(msg)); }*/ });\r\n",
      "\t\t\t\tsocketE.on(\"message\",function(mes) { console.log(mes); });\r\n",
      "\t\t\t}\t\r\n",
      "\t\t}\t\r\n",
      "\t//\taddonload(conn_io);\r\n",
      "\t\tif(typeof JSON == \"undefined\") { var xjs2=document.createElement(\"script\"); xjs2.src=\"https://www.emsc-csem.org/javascript/json2.min.js\"; xjs2.type=\"text/javascript\"; document.getElementsByTagName(\"head\")[0].appendChild(xjs2); }\r\n",
      "\t\t\r\n",
      "\t\t\r\n",
      "\tfunction loadWs() {\r\n",
      "\t\tvar d=Date.now();\r\n",
      "\t\t\r\n",
      "\t\tvar ws= new WebSocket(\"wss://www.emsc-csem.org/traffic?REF=\"+escape(document.referrer)); \r\n",
      "\t\tws.id=d; //console.log(\"try ws \"+ws.id);\r\n",
      "\r\n",
      "\t\tws.onopen = function() { /*setInterval(function () { ws.send(\"Test\"); console.log(\"sendTest\"); }, 12 * 60 * 1000); */   };\r\n",
      "\t\tws[\"banner\"]=function (msg) { \r\n",
      "\t\t\tif(typeof treat_quick_traffic_peak !=\"undefined\") { treat_quick_traffic_peak(msg); } \r\n",
      "\t\t\telse setTimeout(function() { ws.banner(msg);} , 300 );\r\n",
      "\t\t};\t\r\n",
      "\t\tws.onmessage = function (evt) { \r\n",
      "\t\t\tvar m=JSON.parse(evt.data); //console.log(m);\t\r\n",
      "\t\t\tif(m.label && m.data && ws[m.label]) ws[m.label](m.data);\r\n",
      "\t\t};\r\n",
      "\t\t\r\n",
      "\t\tws.onclose = function() {\r\n",
      "\t\t\t//console.log(\"Connection is closed...\",ws.id); console.log(arguments);\r\n",
      "\t\t\tsetTimeout(function() { loadWs(); }, 1000);\r\n",
      "\t\t};\r\n",
      "\t\tws.onerror = function(err) { };\r\n",
      "\t}\r\n",
      "\t(function() { loadWs(); })();\r\n",
      "\t\t\r\n",
      "\t\t\r\n",
      "\t\t</script>\n",
      "</body>\n",
      "</html>\n"
     ]
    }
   ],
   "source": [
    "print(soup)"
   ]
  },
  {
   "cell_type": "code",
   "execution_count": 156,
   "metadata": {},
   "outputs": [],
   "source": [
    "earthq = soup.find_all(\"tr\")"
   ]
  },
  {
   "cell_type": "code",
   "execution_count": 158,
   "metadata": {},
   "outputs": [],
   "source": [
    "ear = earthq[:20]"
   ]
  },
  {
   "cell_type": "code",
   "execution_count": 160,
   "metadata": {},
   "outputs": [
    {
     "data": {
      "text/plain": [
       "20"
      ]
     },
     "execution_count": 160,
     "metadata": {},
     "output_type": "execute_result"
    }
   ],
   "source": [
    "len(ear)"
   ]
  },
  {
   "cell_type": "code",
   "execution_count": 182,
   "metadata": {},
   "outputs": [
    {
     "data": {
      "text/plain": [
       "<tr><td class=\"ban1\" onclick=\"window.location.href='https://www.emsc-csem.org';\" onmouseover=\"this.style.cursor='pointer';\">\n",
       "<img alt=\"logo - home\" src=\"https://static2.emsc.eu/Css/img/logo.png\" style=\"width:150px;height:81px;\"/></td>\n",
       "<td class=\"ban2 ban022\" onclick=\"window.location.href='https://www.emsc-csem.org';\" onmouseover=\"this.style.cursor='pointer';\">\n",
       "<div style=\"border:0; position:relative; float:right; width:110px; height:80px; margin-top:-5px; margin-right:25px; \">\n",
       "<div id=\"androidstore\" style=\"border:0; position:relative; float:left; width:110px; height:35px;\"></div>\n",
       "<div id=\"iosstore\" style=\"border:0; position:relative; float:left; width:110px; height:35px; margin-top:8px;\"></div>\n",
       "</div>\n",
       "<script type=\"text/javascript\">set_server_date(2021,4,15,12,10,25)</script>\n",
       "<div id=\"ejs_server_heure\">Current time: 2021-04-15 12:10:25 UTC</div>\n",
       "</td>\n",
       "<td align=\"right\" class=\"ban3 ban022\"><div class=\"login_box\" id=\"login_box\"><form action=\"https://www.emsc-csem.org/Member/\" enctype=\"multipart/form-data\" method=\"post\">\n",
       "<table cellpadding=\"0\" cellspacing=\"0\" style=\"width:100%;height:100%;border:0;\"><tr><td colspan=\"2\" style=\"text-align: center; font-size: 11px; font-weight: bold; color: #fff;\">\n",
       "<span class=\"spriteorig sp_lock vbottom\"></span> Member access</td></tr><tr><td colspan=\"2\" style=\"height: 2px;text-align:center;\">\n",
       "<img alt=\"\" src=\"data:image/png;base64,iVBORw0KGgoAAAANSUhEUgAAAAEAAAABCAQAAAC1HAwCAAAABGdBTUEAALGPC/xhBQAAAAtJREFUCNdjYGAAAAADAAEg1ZTHAAAAAElFTkSuQmCC\" style=\"display: block;width:1px;border:0;height:2px;\"/></td></tr>\n",
       "<tr><td style=\"font-size: 11px; font-weight: bold; text-align: left; color: #000;\">Name </td>\n",
       "<td style=\"text-align:left;\"><input maxlength=\"10\" name=\"login\" size=\"8\" style=\"height: 11px; width: 80px; font-size: 11px;\" type=\"text\"/></td></tr>\n",
       "<tr><td colspan=\"2\" style=\"height: 2px;text-align:center;\"><img alt=\"\" src=\"data:image/png;base64,iVBORw0KGgoAAAANSUhEUgAAAAEAAAABCAQAAAC1HAwCAAAABGdBTUEAALGPC/xhBQAAAAtJREFUCNdjYGAAAAADAAEg1ZTHAAAAAElFTkSuQmCC\" style=\"display: block;width:1px; border:0;height:2px;\"/></td></tr>\n",
       "<tr><td style=\"font-size: 11px; font-weight: bold; text-align: left; color: #000;\">Pwd</td>\n",
       "<td style=\"text-align:left;\"><input maxlength=\"32\" name=\"pwd\" size=\"8\" style=\"height: 11px; width: 80px; font-size: 11px;\" type=\"password\"/></td></tr>\n",
       "<tr><td colspan=\"2\" style=\"height: 2px;text-align:center;\"><img alt=\"\" src=\"data:image/png;base64,iVBORw0KGgoAAAANSUhEUgAAAAEAAAABCAQAAAC1HAwCAAAABGdBTUEAALGPC/xhBQAAAAtJREFUCNdjYGAAAAADAAEg1ZTHAAAAAElFTkSuQmCC\" style=\"display: block;width:1px;border:0;height:2px;\"/></td>\n",
       "</tr><tr><td> </td><td style=\"text-align:left;\"><input style=\"height: 20px; font-size: 11px;\" type=\"submit\" value=\"Sign in\"/></td></tr></table></form></div></td></tr>"
      ]
     },
     "execution_count": 182,
     "metadata": {},
     "output_type": "execute_result"
    }
   ],
   "source": [
    "ear[0]"
   ]
  },
  {
   "cell_type": "code",
   "execution_count": 181,
   "metadata": {},
   "outputs": [
    {
     "data": {
      "text/plain": [
       "[<tr><td colspan=\"2\" style=\"text-align: center; font-size: 11px; font-weight: bold; color: #fff;\">\n",
       " <span class=\"spriteorig sp_lock vbottom\"></span> Member access</td></tr>,\n",
       " <tr><td colspan=\"2\" style=\"height: 2px;text-align:center;\">\n",
       " <img alt=\"\" src=\"data:image/png;base64,iVBORw0KGgoAAAANSUhEUgAAAAEAAAABCAQAAAC1HAwCAAAABGdBTUEAALGPC/xhBQAAAAtJREFUCNdjYGAAAAADAAEg1ZTHAAAAAElFTkSuQmCC\" style=\"display: block;width:1px;border:0;height:2px;\"/></td></tr>,\n",
       " <tr><td style=\"font-size: 11px; font-weight: bold; text-align: left; color: #000;\">Name </td>\n",
       " <td style=\"text-align:left;\"><input maxlength=\"10\" name=\"login\" size=\"8\" style=\"height: 11px; width: 80px; font-size: 11px;\" type=\"text\"/></td></tr>,\n",
       " <tr><td colspan=\"2\" style=\"height: 2px;text-align:center;\"><img alt=\"\" src=\"data:image/png;base64,iVBORw0KGgoAAAANSUhEUgAAAAEAAAABCAQAAAC1HAwCAAAABGdBTUEAALGPC/xhBQAAAAtJREFUCNdjYGAAAAADAAEg1ZTHAAAAAElFTkSuQmCC\" style=\"display: block;width:1px; border:0;height:2px;\"/></td></tr>,\n",
       " <tr><td style=\"font-size: 11px; font-weight: bold; text-align: left; color: #000;\">Pwd</td>\n",
       " <td style=\"text-align:left;\"><input maxlength=\"32\" name=\"pwd\" size=\"8\" style=\"height: 11px; width: 80px; font-size: 11px;\" type=\"password\"/></td></tr>,\n",
       " <tr><td colspan=\"2\" style=\"height: 2px;text-align:center;\"><img alt=\"\" src=\"data:image/png;base64,iVBORw0KGgoAAAANSUhEUgAAAAEAAAABCAQAAAC1HAwCAAAABGdBTUEAALGPC/xhBQAAAAtJREFUCNdjYGAAAAADAAEg1ZTHAAAAAElFTkSuQmCC\" style=\"display: block;width:1px;border:0;height:2px;\"/></td>\n",
       " </tr>,\n",
       " <tr><td> </td><td style=\"text-align:left;\"><input style=\"height: 20px; font-size: 11px;\" type=\"submit\" value=\"Sign in\"/></td></tr>]"
      ]
     },
     "execution_count": 181,
     "metadata": {},
     "output_type": "execute_result"
    }
   ],
   "source": [
    "ear[0].select(\"tr\")"
   ]
  },
  {
   "cell_type": "code",
   "execution_count": 166,
   "metadata": {},
   "outputs": [],
   "source": [
    "e"
   ]
  },
  {
   "cell_type": "code",
   "execution_count": 152,
   "metadata": {},
   "outputs": [
    {
     "ename": "AttributeError",
     "evalue": "ResultSet object has no attribute 'findAll'. You're probably treating a list of elements like a single element. Did you call find_all() when you meant to call find()?",
     "output_type": "error",
     "traceback": [
      "\u001b[0;31m---------------------------------------------------------------------------\u001b[0m",
      "\u001b[0;31mAttributeError\u001b[0m                            Traceback (most recent call last)",
      "\u001b[0;32m<ipython-input-152-79f169c48665>\u001b[0m in \u001b[0;36m<module>\u001b[0;34m\u001b[0m\n\u001b[0;32m----> 1\u001b[0;31m \u001b[0mearthq\u001b[0m\u001b[0;34m.\u001b[0m\u001b[0mfindAll\u001b[0m\u001b[0;34m(\u001b[0m\u001b[0;34m\"tbody\"\u001b[0m\u001b[0;34m)\u001b[0m\u001b[0;34m\u001b[0m\u001b[0;34m\u001b[0m\u001b[0m\n\u001b[0m",
      "\u001b[0;32m/usr/local/Caskroom/miniconda/base/envs/ironhack/lib/python3.8/site-packages/bs4/element.py\u001b[0m in \u001b[0;36m__getattr__\u001b[0;34m(self, key)\u001b[0m\n\u001b[1;32m   2171\u001b[0m     \u001b[0;32mdef\u001b[0m \u001b[0m__getattr__\u001b[0m\u001b[0;34m(\u001b[0m\u001b[0mself\u001b[0m\u001b[0;34m,\u001b[0m \u001b[0mkey\u001b[0m\u001b[0;34m)\u001b[0m\u001b[0;34m:\u001b[0m\u001b[0;34m\u001b[0m\u001b[0;34m\u001b[0m\u001b[0m\n\u001b[1;32m   2172\u001b[0m         \u001b[0;34m\"\"\"Raise a helpful exception to explain a common code fix.\"\"\"\u001b[0m\u001b[0;34m\u001b[0m\u001b[0;34m\u001b[0m\u001b[0m\n\u001b[0;32m-> 2173\u001b[0;31m         raise AttributeError(\n\u001b[0m\u001b[1;32m   2174\u001b[0m             \u001b[0;34m\"ResultSet object has no attribute '%s'. You're probably treating a list of elements like a single element. Did you call find_all() when you meant to call find()?\"\u001b[0m \u001b[0;34m%\u001b[0m \u001b[0mkey\u001b[0m\u001b[0;34m\u001b[0m\u001b[0;34m\u001b[0m\u001b[0m\n\u001b[1;32m   2175\u001b[0m         )\n",
      "\u001b[0;31mAttributeError\u001b[0m: ResultSet object has no attribute 'findAll'. You're probably treating a list of elements like a single element. Did you call find_all() when you meant to call find()?"
     ]
    }
   ],
   "source": [
    "earthq.findAll(\"tbody\")"
   ]
  },
  {
   "cell_type": "code",
   "execution_count": null,
   "metadata": {},
   "outputs": [],
   "source": [
    "tbody tr td tabev1"
   ]
  },
  {
   "cell_type": "markdown",
   "metadata": {},
   "source": [
    "#### Display the date, days, title, city, country of next 25 hackathon events as a Pandas dataframe table"
   ]
  },
  {
   "cell_type": "code",
   "execution_count": null,
   "metadata": {},
   "outputs": [],
   "source": [
    "# This is the url you will scrape in this exercise\n",
    "url ='https://hackevents.co/hackathons'\n",
    "url_hack = 'https://hackevents.co/search/anything/anywhere/anytime' "
   ]
  },
  {
   "cell_type": "code",
   "execution_count": null,
   "metadata": {},
   "outputs": [],
   "source": [
    "#your code\n"
   ]
  },
  {
   "cell_type": "code",
   "execution_count": null,
   "metadata": {},
   "outputs": [],
   "source": []
  },
  {
   "cell_type": "markdown",
   "metadata": {},
   "source": [
    "#### List all language names and number of related articles in the order they appear in wikipedia.org"
   ]
  },
  {
   "cell_type": "code",
   "execution_count": null,
   "metadata": {},
   "outputs": [],
   "source": [
    "# This is the url you will scrape in this exercise\n",
    "url = 'https://www.wikipedia.org/'"
   ]
  },
  {
   "cell_type": "code",
   "execution_count": null,
   "metadata": {},
   "outputs": [],
   "source": [
    "#your code\n"
   ]
  },
  {
   "cell_type": "code",
   "execution_count": null,
   "metadata": {},
   "outputs": [],
   "source": []
  },
  {
   "cell_type": "markdown",
   "metadata": {},
   "source": [
    "#### A list with the different kind of datasets available in data.gov.uk "
   ]
  },
  {
   "cell_type": "code",
   "execution_count": null,
   "metadata": {},
   "outputs": [],
   "source": [
    "# This is the url you will scrape in this exercise\n",
    "url = 'https://data.gov.uk/'"
   ]
  },
  {
   "cell_type": "code",
   "execution_count": null,
   "metadata": {},
   "outputs": [],
   "source": [
    "#your code \n"
   ]
  },
  {
   "cell_type": "code",
   "execution_count": null,
   "metadata": {},
   "outputs": [],
   "source": []
  },
  {
   "cell_type": "markdown",
   "metadata": {},
   "source": [
    "#### Top 10 languages by number of native speakers stored in a Pandas Dataframe"
   ]
  },
  {
   "cell_type": "code",
   "execution_count": null,
   "metadata": {},
   "outputs": [],
   "source": [
    "# This is the url you will scrape in this exercise\n",
    "url = 'https://en.wikipedia.org/wiki/List_of_languages_by_number_of_native_speakers'"
   ]
  },
  {
   "cell_type": "code",
   "execution_count": null,
   "metadata": {},
   "outputs": [],
   "source": [
    "#your code\n"
   ]
  },
  {
   "cell_type": "code",
   "execution_count": null,
   "metadata": {},
   "outputs": [],
   "source": []
  },
  {
   "cell_type": "markdown",
   "metadata": {},
   "source": [
    "### BONUS QUESTIONS"
   ]
  },
  {
   "cell_type": "markdown",
   "metadata": {},
   "source": [
    "#### IMDB's Top 250 data (movie name, Initial release, director name and stars) as a pandas dataframe"
   ]
  },
  {
   "cell_type": "code",
   "execution_count": null,
   "metadata": {},
   "outputs": [],
   "source": [
    "# This is the url you will scrape in this exercise \n",
    "url = 'https://www.imdb.com/chart/top'"
   ]
  },
  {
   "cell_type": "code",
   "execution_count": null,
   "metadata": {},
   "outputs": [],
   "source": [
    "# your code\n"
   ]
  },
  {
   "cell_type": "code",
   "execution_count": null,
   "metadata": {},
   "outputs": [],
   "source": []
  },
  {
   "cell_type": "code",
   "execution_count": null,
   "metadata": {},
   "outputs": [],
   "source": []
  }
 ],
 "metadata": {
  "kernelspec": {
   "display_name": "Python 3",
   "language": "python",
   "name": "python3"
  },
  "language_info": {
   "codemirror_mode": {
    "name": "ipython",
    "version": 3
   },
   "file_extension": ".py",
   "mimetype": "text/x-python",
   "name": "python",
   "nbconvert_exporter": "python",
   "pygments_lexer": "ipython3",
   "version": "3.8.5"
  },
  "toc": {
   "base_numbering": 1,
   "nav_menu": {},
   "number_sections": false,
   "sideBar": true,
   "skip_h1_title": false,
   "title_cell": "Table of Contents",
   "title_sidebar": "Contents",
   "toc_cell": false,
   "toc_position": {
    "height": "calc(100% - 180px)",
    "left": "10px",
    "top": "150px",
    "width": "288px"
   },
   "toc_section_display": true,
   "toc_window_display": false
  },
  "varInspector": {
   "cols": {
    "lenName": 16,
    "lenType": 16,
    "lenVar": 40
   },
   "kernels_config": {
    "python": {
     "delete_cmd_postfix": "",
     "delete_cmd_prefix": "del ",
     "library": "var_list.py",
     "varRefreshCmd": "print(var_dic_list())"
    },
    "r": {
     "delete_cmd_postfix": ") ",
     "delete_cmd_prefix": "rm(",
     "library": "var_list.r",
     "varRefreshCmd": "cat(var_dic_list()) "
    }
   },
   "types_to_exclude": [
    "module",
    "function",
    "builtin_function_or_method",
    "instance",
    "_Feature"
   ],
   "window_display": false
  }
 },
 "nbformat": 4,
 "nbformat_minor": 2
}
